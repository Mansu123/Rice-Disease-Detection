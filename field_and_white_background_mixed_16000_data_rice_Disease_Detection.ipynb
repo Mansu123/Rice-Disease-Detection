{
  "cells": [
    {
      "cell_type": "code",
      "execution_count": null,
      "metadata": {
        "id": "T2OHUGiGdMk0"
      },
      "outputs": [],
      "source": [
        "import tensorflow as tf\n",
        "from tensorflow import keras\n",
        "from keras.layers import Dense, Conv2D, BatchNormalization, Activation\n",
        "from keras.layers import AveragePooling2D, Input, Flatten\n",
        "from tensorflow.keras.optimizers import Adam\n",
        "from tensorflow.keras.layers import Dropout\n",
        "from tensorflow.keras.constraints import MaxNorm\n",
        "from keras.callbacks import ModelCheckpoint, LearningRateScheduler\n",
        "from keras.callbacks import ReduceLROnPlateau\n",
        "from keras.preprocessing.image import ImageDataGenerator\n",
        "from keras.regularizers import l2\n",
        "from keras import backend as K\n",
        "from keras.models import Model\n",
        "from keras.utils import np_utils\n",
        "import os\n",
        "import tensorflow_datasets as tfds\n",
        "import PIL\n",
        "import PIL.Image\n",
        "import pathlib"
      ]
    },
    {
      "cell_type": "code",
      "execution_count": null,
      "metadata": {
        "colab": {
          "base_uri": "https://localhost:8080/"
        },
        "id": "4ReXvjoJwLIQ",
        "outputId": "b4325a37-458a-4225-cf40-b8db96a3ebc5"
      },
      "outputs": [
        {
          "output_type": "stream",
          "name": "stdout",
          "text": [
            "Mounted at /content/gdrive\n"
          ]
        }
      ],
      "source": [
        "# Directory to dataset in drive\n",
        "from google.colab import drive\n",
        "drive.mount('/content/gdrive', force_remount=True)\n",
        "\n",
        "base_dir = ('/content/gdrive/MyDrive/Paddy big dataset/train_images')"
      ]
    },
    {
      "cell_type": "code",
      "execution_count": null,
      "metadata": {
        "colab": {
          "base_uri": "https://localhost:8080/"
        },
        "id": "1DC4QdNnaHEo",
        "outputId": "ae3994bd-a98c-4340-a9e9-44ac071d02ff"
      },
      "outputs": [
        {
          "output_type": "stream",
          "name": "stdout",
          "text": [
            "Found 13083 images belonging to 10 classes.\n",
            "Found 3266 images belonging to 10 classes.\n"
          ]
        }
      ],
      "source": [
        "IMAGE_SIZE=224\n",
        "BATCH_SIZE=124\n",
        "\n",
        "#pre=processing\n",
        "train_datagen=tf.keras.preprocessing.image.ImageDataGenerator(\n",
        "    shear_range=0.2,\n",
        "    zoom_range=0.2,sdx\n",
        "    horizontal_flip=True,\n",
        "    validation_split=0.2\n",
        "    )\n",
        "test_datagen=tf.keras.preprocessing.image.ImageDataGenerator(\n",
        "     rescale=1./255,\n",
        "     validation_split=0.2\n",
        ")\n",
        "\n",
        "train_datagen=train_datagen.flow_from_directory(\n",
        "    base_dir,\n",
        "    target_size=(IMAGE_SIZE,IMAGE_SIZE),\n",
        "    batch_size=BATCH_SIZE,\n",
        "    subset='training'\n",
        ")\n",
        "\n",
        "test_datagen=test_datagen.flow_from_directory(\n",
        "    base_dir,\n",
        "    target_size=(IMAGE_SIZE,IMAGE_SIZE),\n",
        "    batch_size=BATCH_SIZE,\n",
        "    subset='validation'\n",
        ")"
      ]
    },
    {
      "cell_type": "code",
      "execution_count": null,
      "metadata": {
        "id": "ONqm15T1P0lx"
      },
      "outputs": [],
      "source": [
        "cnn=tf.keras.Sequential()\n",
        "cnn.add(tf.keras.layers.Conv2D(filters=20,padding='same',kernel_size=3,activation='relu',input_shape=(224,224,3)))\n",
        "cnn.add(tf.keras.layers.MaxPool2D(pool_size=2,strides=2))#111*111\n",
        "cnn.add(tf.keras.layers.BatchNormalization())\n",
        "\n",
        "cnn.add(tf.keras.layers.Conv2D(filters=30,padding='same',kernel_size=6,activation='relu'))#106*106\n",
        "cnn.add(tf.keras.layers.MaxPool2D(pool_size=2,strides=2))#63*63\n",
        "cnn.add(tf.keras.layers.BatchNormalization())\n",
        "\n",
        "cnn.add(tf.keras.layers.Conv2D(filters=35,padding='same',kernel_size=4,activation='relu'))#60*60\n",
        "cnn.add(tf.keras.layers.MaxPool2D(pool_size=2,strides=2))#30*30\n",
        "cnn.add(tf.keras.layers.BatchNormalization())\n",
        "\n",
        "cnn.add(tf.keras.layers.Conv2D(filters=40,padding='same',kernel_size=5,activation='relu'))#26*26\n",
        "cnn.add(tf.keras.layers.MaxPool2D(pool_size=2,strides=2))#13*13\n",
        "cnn.add(tf.keras.layers.BatchNormalization())\n",
        "\n",
        "cnn.add(tf.keras.layers.Conv2D(filters=45,padding='same',kernel_size=7,activation='relu'))#10*10\n",
        "cnn.add(tf.keras.layers.MaxPool2D(pool_size=2,strides=2))#5*5\n",
        "cnn.add(tf.keras.layers.BatchNormalization())\n",
        "\n",
        "cnn.add(tf.keras.layers.Conv2D(filters=30,padding='same',kernel_size=6,activation='relu'))#106*106\n",
        "cnn.add(tf.keras.layers.MaxPool2D(pool_size=2,strides=2))#63*63\n",
        "cnn.add(tf.keras.layers.BatchNormalization())\n",
        "\n",
        "cnn.add(tf.keras.layers.Conv2D(filters=55,padding='same',kernel_size=5,activation='relu'))#10*10\n",
        "cnn.add(tf.keras.layers.MaxPool2D(pool_size=2,strides=2))#5*5\n",
        "cnn.add(tf.keras.layers.BatchNormalization())\n",
        "\n",
        "cnn.add(tf.keras.layers.GlobalAveragePooling2D())\n",
        "\n",
        "cnn.add(tf.keras.layers.Flatten())\n",
        "cnn.add(tf.keras.layers.Dense(10,activation='softmax'))\n"
      ]
    },
    {
      "cell_type": "code",
      "execution_count": null,
      "metadata": {
        "id": "zdJukzSyP0i5"
      },
      "outputs": [],
      "source": [
        "cnn.compile(optimizer=tf.keras.optimizers.Adam(),loss='categorical_crossentropy',metrics=['accuracy'])"
      ]
    },
    {
      "cell_type": "code",
      "execution_count": null,
      "metadata": {
        "colab": {
          "base_uri": "https://localhost:8080/"
        },
        "id": "rKhUuSGlkgIh",
        "outputId": "0ddb0600-8082-4e72-cc5a-133f9392f0e9"
      },
      "outputs": [
        {
          "output_type": "stream",
          "name": "stdout",
          "text": [
            "Model: \"sequential\"\n",
            "_________________________________________________________________\n",
            " Layer (type)                Output Shape              Param #   \n",
            "=================================================================\n",
            " conv2d_22 (Conv2D)          (None, 224, 224, 20)      560       \n",
            "                                                                 \n",
            " max_pooling2d (MaxPooling2D  (None, 112, 112, 20)     0         \n",
            " )                                                               \n",
            "                                                                 \n",
            " batch_normalization (BatchN  (None, 112, 112, 20)     80        \n",
            " ormalization)                                                   \n",
            "                                                                 \n",
            " conv2d_23 (Conv2D)          (None, 112, 112, 30)      21630     \n",
            "                                                                 \n",
            " max_pooling2d_1 (MaxPooling  (None, 56, 56, 30)       0         \n",
            " 2D)                                                             \n",
            "                                                                 \n",
            " batch_normalization_1 (Batc  (None, 56, 56, 30)       120       \n",
            " hNormalization)                                                 \n",
            "                                                                 \n",
            " conv2d_24 (Conv2D)          (None, 56, 56, 35)        16835     \n",
            "                                                                 \n",
            " max_pooling2d_2 (MaxPooling  (None, 28, 28, 35)       0         \n",
            " 2D)                                                             \n",
            "                                                                 \n",
            " batch_normalization_2 (Batc  (None, 28, 28, 35)       140       \n",
            " hNormalization)                                                 \n",
            "                                                                 \n",
            " conv2d_25 (Conv2D)          (None, 28, 28, 40)        35040     \n",
            "                                                                 \n",
            " max_pooling2d_3 (MaxPooling  (None, 14, 14, 40)       0         \n",
            " 2D)                                                             \n",
            "                                                                 \n",
            " batch_normalization_3 (Batc  (None, 14, 14, 40)       160       \n",
            " hNormalization)                                                 \n",
            "                                                                 \n",
            " conv2d_26 (Conv2D)          (None, 14, 14, 45)        88245     \n",
            "                                                                 \n",
            " max_pooling2d_4 (MaxPooling  (None, 7, 7, 45)         0         \n",
            " 2D)                                                             \n",
            "                                                                 \n",
            " batch_normalization_4 (Batc  (None, 7, 7, 45)         180       \n",
            " hNormalization)                                                 \n",
            "                                                                 \n",
            " conv2d_27 (Conv2D)          (None, 7, 7, 30)          48630     \n",
            "                                                                 \n",
            " max_pooling2d_5 (MaxPooling  (None, 3, 3, 30)         0         \n",
            " 2D)                                                             \n",
            "                                                                 \n",
            " batch_normalization_5 (Batc  (None, 3, 3, 30)         120       \n",
            " hNormalization)                                                 \n",
            "                                                                 \n",
            " conv2d_28 (Conv2D)          (None, 3, 3, 55)          41305     \n",
            "                                                                 \n",
            " max_pooling2d_6 (MaxPooling  (None, 1, 1, 55)         0         \n",
            " 2D)                                                             \n",
            "                                                                 \n",
            " batch_normalization_6 (Batc  (None, 1, 1, 55)         220       \n",
            " hNormalization)                                                 \n",
            "                                                                 \n",
            " global_average_pooling2d (G  (None, 55)               0         \n",
            " lobalAveragePooling2D)                                          \n",
            "                                                                 \n",
            " flatten (Flatten)           (None, 55)                0         \n",
            "                                                                 \n",
            " dense (Dense)               (None, 10)                560       \n",
            "                                                                 \n",
            "=================================================================\n",
            "Total params: 253,825\n",
            "Trainable params: 253,315\n",
            "Non-trainable params: 510\n",
            "_________________________________________________________________\n"
          ]
        }
      ],
      "source": [
        "cnn.summary()"
      ]
    },
    {
      "cell_type": "code",
      "execution_count": null,
      "metadata": {
        "id": "8Qwxes-8JSnR"
      },
      "outputs": [],
      "source": [
        "from keras import backend as K\n",
        "K.set_value(cnn.optimizer.learning_rate, 0.00050)"
      ]
    },
    {
      "cell_type": "code",
      "source": [
        "checkpoint = keras.callbacks.ModelCheckpoint('/content/gdrive/MyDrive//Paddy big dataset/model training'+'/checkpoint_{epoch:02d}', save_freq='epoch')\n",
        "cnn.fit(train_datagen,epochs=20,validation_data=test_datagen,callbacks=[checkpoint])"
      ],
      "metadata": {
        "colab": {
          "base_uri": "https://localhost:8080/"
        },
        "id": "RAjQLhV5q343",
        "outputId": "44e0ac03-6677-4f7d-ea1e-5892c1f666cf"
      },
      "execution_count": null,
      "outputs": [
        {
          "output_type": "stream",
          "name": "stdout",
          "text": [
            "Epoch 1/20\n",
            "106/106 [==============================] - ETA: 0s - loss: 0.0648 - accuracy: 0.9785INFO:tensorflow:Assets written to: /content/gdrive/MyDrive//Paddy big dataset/model training/checkpoint_01/assets\n",
            "106/106 [==============================] - 216s 2s/step - loss: 0.0648 - accuracy: 0.9785 - val_loss: 1.0764 - val_accuracy: 0.7593\n",
            "Epoch 2/20\n",
            "106/106 [==============================] - ETA: 0s - loss: 0.0619 - accuracy: 0.9799INFO:tensorflow:Assets written to: /content/gdrive/MyDrive//Paddy big dataset/model training/checkpoint_02/assets\n",
            "106/106 [==============================] - 215s 2s/step - loss: 0.0619 - accuracy: 0.9799 - val_loss: 1.6783 - val_accuracy: 0.6733\n",
            "Epoch 3/20\n",
            "106/106 [==============================] - ETA: 0s - loss: 0.0723 - accuracy: 0.9765INFO:tensorflow:Assets written to: /content/gdrive/MyDrive//Paddy big dataset/model training/checkpoint_03/assets\n",
            "106/106 [==============================] - 214s 2s/step - loss: 0.0723 - accuracy: 0.9765 - val_loss: 1.4255 - val_accuracy: 0.6966\n",
            "Epoch 4/20\n",
            "106/106 [==============================] - ETA: 0s - loss: 0.0565 - accuracy: 0.9811INFO:tensorflow:Assets written to: /content/gdrive/MyDrive//Paddy big dataset/model training/checkpoint_04/assets\n",
            "106/106 [==============================] - 214s 2s/step - loss: 0.0565 - accuracy: 0.9811 - val_loss: 1.1246 - val_accuracy: 0.7713\n",
            "Epoch 5/20\n",
            "106/106 [==============================] - ETA: 0s - loss: 0.0609 - accuracy: 0.9798INFO:tensorflow:Assets written to: /content/gdrive/MyDrive//Paddy big dataset/model training/checkpoint_05/assets\n",
            "106/106 [==============================] - 215s 2s/step - loss: 0.0609 - accuracy: 0.9798 - val_loss: 1.0060 - val_accuracy: 0.7829\n",
            "Epoch 6/20\n",
            "106/106 [==============================] - ETA: 0s - loss: 0.0690 - accuracy: 0.9767INFO:tensorflow:Assets written to: /content/gdrive/MyDrive//Paddy big dataset/model training/checkpoint_06/assets\n",
            "106/106 [==============================] - 216s 2s/step - loss: 0.0690 - accuracy: 0.9767 - val_loss: 0.8903 - val_accuracy: 0.8010\n",
            "Epoch 7/20\n",
            "106/106 [==============================] - ETA: 0s - loss: 0.0477 - accuracy: 0.9843INFO:tensorflow:Assets written to: /content/gdrive/MyDrive//Paddy big dataset/model training/checkpoint_07/assets\n",
            "106/106 [==============================] - 227s 2s/step - loss: 0.0477 - accuracy: 0.9843 - val_loss: 1.1955 - val_accuracy: 0.7091\n",
            "Epoch 8/20\n",
            "106/106 [==============================] - ETA: 0s - loss: 0.0647 - accuracy: 0.9772INFO:tensorflow:Assets written to: /content/gdrive/MyDrive//Paddy big dataset/model training/checkpoint_08/assets\n",
            "106/106 [==============================] - 216s 2s/step - loss: 0.0647 - accuracy: 0.9772 - val_loss: 0.9985 - val_accuracy: 0.7633\n",
            "Epoch 9/20\n",
            "106/106 [==============================] - ETA: 0s - loss: 0.0469 - accuracy: 0.9853INFO:tensorflow:Assets written to: /content/gdrive/MyDrive//Paddy big dataset/model training/checkpoint_09/assets\n",
            "106/106 [==============================] - 215s 2s/step - loss: 0.0469 - accuracy: 0.9853 - val_loss: 0.9717 - val_accuracy: 0.7832\n",
            "Epoch 10/20\n",
            "106/106 [==============================] - ETA: 0s - loss: 0.0501 - accuracy: 0.9826INFO:tensorflow:Assets written to: /content/gdrive/MyDrive//Paddy big dataset/model training/checkpoint_10/assets\n",
            "106/106 [==============================] - 216s 2s/step - loss: 0.0501 - accuracy: 0.9826 - val_loss: 1.1356 - val_accuracy: 0.7722\n",
            "Epoch 11/20\n",
            "106/106 [==============================] - ETA: 0s - loss: 0.0539 - accuracy: 0.9823INFO:tensorflow:Assets written to: /content/gdrive/MyDrive//Paddy big dataset/model training/checkpoint_11/assets\n",
            "106/106 [==============================] - 216s 2s/step - loss: 0.0539 - accuracy: 0.9823 - val_loss: 1.0319 - val_accuracy: 0.7897\n",
            "Epoch 12/20\n",
            "106/106 [==============================] - ETA: 0s - loss: 0.0432 - accuracy: 0.9861INFO:tensorflow:Assets written to: /content/gdrive/MyDrive//Paddy big dataset/model training/checkpoint_12/assets\n",
            "106/106 [==============================] - 215s 2s/step - loss: 0.0432 - accuracy: 0.9861 - val_loss: 0.7915 - val_accuracy: 0.8209\n",
            "Epoch 13/20\n",
            "106/106 [==============================] - ETA: 0s - loss: 0.0401 - accuracy: 0.9853INFO:tensorflow:Assets written to: /content/gdrive/MyDrive//Paddy big dataset/model training/checkpoint_13/assets\n",
            "106/106 [==============================] - 215s 2s/step - loss: 0.0401 - accuracy: 0.9853 - val_loss: 1.1967 - val_accuracy: 0.7425\n",
            "Epoch 14/20\n",
            "106/106 [==============================] - ETA: 0s - loss: 0.0439 - accuracy: 0.9858INFO:tensorflow:Assets written to: /content/gdrive/MyDrive//Paddy big dataset/model training/checkpoint_14/assets\n",
            "106/106 [==============================] - 217s 2s/step - loss: 0.0439 - accuracy: 0.9858 - val_loss: 3.2882 - val_accuracy: 0.4522\n",
            "Epoch 15/20\n",
            "106/106 [==============================] - ETA: 0s - loss: 0.0459 - accuracy: 0.9863INFO:tensorflow:Assets written to: /content/gdrive/MyDrive//Paddy big dataset/model training/checkpoint_15/assets\n",
            "106/106 [==============================] - 215s 2s/step - loss: 0.0459 - accuracy: 0.9863 - val_loss: 1.0792 - val_accuracy: 0.7682\n",
            "Epoch 16/20\n",
            "106/106 [==============================] - ETA: 0s - loss: 0.0397 - accuracy: 0.9879INFO:tensorflow:Assets written to: /content/gdrive/MyDrive//Paddy big dataset/model training/checkpoint_16/assets\n",
            "106/106 [==============================] - 215s 2s/step - loss: 0.0397 - accuracy: 0.9879 - val_loss: 1.7099 - val_accuracy: 0.6476\n",
            "Epoch 17/20\n",
            "106/106 [==============================] - ETA: 0s - loss: 0.0374 - accuracy: 0.9871INFO:tensorflow:Assets written to: /content/gdrive/MyDrive//Paddy big dataset/model training/checkpoint_17/assets\n",
            "106/106 [==============================] - 216s 2s/step - loss: 0.0374 - accuracy: 0.9871 - val_loss: 1.0822 - val_accuracy: 0.7648\n",
            "Epoch 18/20\n",
            "106/106 [==============================] - ETA: 0s - loss: 0.0387 - accuracy: 0.9881INFO:tensorflow:Assets written to: /content/gdrive/MyDrive//Paddy big dataset/model training/checkpoint_18/assets\n",
            "106/106 [==============================] - 215s 2s/step - loss: 0.0387 - accuracy: 0.9881 - val_loss: 0.9500 - val_accuracy: 0.8047\n",
            "Epoch 19/20\n",
            "106/106 [==============================] - ETA: 0s - loss: 0.0417 - accuracy: 0.9863INFO:tensorflow:Assets written to: /content/gdrive/MyDrive//Paddy big dataset/model training/checkpoint_19/assets\n",
            "106/106 [==============================] - 220s 2s/step - loss: 0.0417 - accuracy: 0.9863 - val_loss: 1.2649 - val_accuracy: 0.7453\n",
            "Epoch 20/20\n",
            "106/106 [==============================] - ETA: 0s - loss: 0.0528 - accuracy: 0.9844INFO:tensorflow:Assets written to: /content/gdrive/MyDrive//Paddy big dataset/model training/checkpoint_20/assets\n",
            "106/106 [==============================] - 217s 2s/step - loss: 0.0528 - accuracy: 0.9844 - val_loss: 2.5993 - val_accuracy: 0.5395\n"
          ]
        },
        {
          "output_type": "execute_result",
          "data": {
            "text/plain": [
              "<keras.callbacks.History at 0x7f4698514a10>"
            ]
          },
          "metadata": {},
          "execution_count": 18
        }
      ]
    },
    {
      "cell_type": "code",
      "execution_count": null,
      "metadata": {
        "id": "CXQ80c6Uy9jb"
      },
      "outputs": [],
      "source": [
        "cnn.save(os.path.join('/content/gdrive/MyDrive/','rice_disease_model2\\_white.h5'))  # creates a HDF5 file 'my_model.h5'"
      ]
    },
    {
      "cell_type": "code",
      "source": [
        "import numpy as np\n",
        "import pandas as pd\n",
        "from pathlib import Path\n",
        "import os.path\n",
        "from tensorflow.keras.preprocessing import image\n",
        "from tensorflow.keras.layers import GlobalAveragePooling2D\n",
        "import matplotlib.pyplot as plt\n",
        "import seaborn as sns\n",
        "from sklearn.model_selection import train_test_split\n",
        "import tensorflow as tf\n",
        "from sklearn.metrics import confusion_matrix, classification_report"
      ],
      "metadata": {
        "id": "isXKq4feLrP4"
      },
      "execution_count": null,
      "outputs": []
    },
    {
      "cell_type": "code",
      "execution_count": null,
      "metadata": {
        "id": "tYErbZgb7NOB",
        "colab": {
          "base_uri": "https://localhost:8080/"
        },
        "outputId": "a7328280-6501-4308-b9c8-6b5761fbbf17"
      },
      "outputs": [
        {
          "output_type": "stream",
          "name": "stderr",
          "text": [
            "/usr/local/lib/python3.7/dist-packages/keras/optimizer_v2/adam.py:105: UserWarning: The `lr` argument is deprecated, use `learning_rate` instead.\n",
            "  super(Adam, self).__init__(name, **kwargs)\n"
          ]
        }
      ],
      "source": [
        "from keras.callbacks import ModelCheckpoint, EarlyStopping, ReduceLROnPlateau\n",
        "checkpoint = ModelCheckpoint(\"./model.h5\", monitor='val_acc', verbose=1, save_best_only=True, mode='max')\n",
        "\n",
        "early_stopping = EarlyStopping(monitor='val_loss',\n",
        "                          min_delta=0,\n",
        "                          patience=3,\n",
        "                          verbose=1,\n",
        "                          restore_best_weights=True\n",
        "                          )\n",
        "\n",
        "reduce_learningrate = ReduceLROnPlateau(monitor='val_loss',\n",
        "                              factor=0.2,\n",
        "                              patience=3,\n",
        "                              verbose=1,\n",
        "                              min_delta=0.0001)\n",
        "\n",
        "callbacks_list = [early_stopping,checkpoint,reduce_learningrate]\n",
        "\n",
        "epochs = 48\n",
        "\n",
        "cnn.compile(loss='categorical_crossentropy',\n",
        "              optimizer = Adam(lr=0.001),\n",
        "              metrics=['accuracy'])\n",
        "reduce_learningrate = ReduceLROnPlateau(monitor='val_loss',\n",
        "                              factor=0.2,\n",
        "                              patience=3,\n",
        "                              verbose=1,\n",
        "                              min_delta=0.0001)\n",
        "\n",
        "callbacks_list = [early_stopping,checkpoint,reduce_learningrate]\n",
        "\n",
        "epochs = 48\n",
        "\n",
        "cnn.compile(loss='categorical_crossentropy',\n",
        "              optimizer = Adam(lr=0.001),\n",
        "              metrics=['accuracy'])"
      ]
    },
    {
      "cell_type": "code",
      "execution_count": null,
      "metadata": {
        "id": "rI-khZRK9How",
        "colab": {
          "base_uri": "https://localhost:8080/"
        },
        "outputId": "db665f07-ce44-44f4-e878-2e14d253d9f8"
      },
      "outputs": [
        {
          "output_type": "stream",
          "name": "stderr",
          "text": [
            "/usr/local/lib/python3.7/dist-packages/ipykernel_launcher.py:6: UserWarning: `Model.fit_generator` is deprecated and will be removed in a future version. Please use `Model.fit`, which supports generators.\n",
            "  \n"
          ]
        },
        {
          "output_type": "stream",
          "name": "stdout",
          "text": [
            "Epoch 1/10\n",
            "105/105 [==============================] - ETA: 0s - loss: 0.0550 - accuracy: 0.9821WARNING:tensorflow:Can save best model only with val_acc available, skipping.\n"
          ]
        },
        {
          "output_type": "stream",
          "name": "stderr",
          "text": [
            "WARNING:tensorflow:Can save best model only with val_acc available, skipping.\n"
          ]
        },
        {
          "output_type": "stream",
          "name": "stdout",
          "text": [
            "\b\b\b\b\b\b\b\b\b\b\b\b\b\b\b\b\b\b\b\b\b\b\b\b\b\b\b\b\b\b\b\b\b\b\b\b\b\b\b\b\b\b\b\b\b\b\b\b\b\b\b\b\b\b\b\b\b\b\b\b\b\b\b\b\b\b\b\b\b\b\b\b\b\b\b\b\b\b\b\b\b\b\b\b\r105/105 [==============================] - 219s 2s/step - loss: 0.0550 - accuracy: 0.9821 - val_loss: 0.8195 - val_accuracy: 0.8148 - lr: 0.0010\n",
            "Epoch 2/10\n",
            "105/105 [==============================] - ETA: 0s - loss: 0.0482 - accuracy: 0.9845WARNING:tensorflow:Can save best model only with val_acc available, skipping.\n"
          ]
        },
        {
          "output_type": "stream",
          "name": "stderr",
          "text": [
            "WARNING:tensorflow:Can save best model only with val_acc available, skipping.\n"
          ]
        },
        {
          "output_type": "stream",
          "name": "stdout",
          "text": [
            "\b\b\b\b\b\b\b\b\b\b\b\b\b\b\b\b\b\b\b\b\b\b\b\b\b\b\b\b\b\b\b\b\b\b\b\b\b\b\b\b\b\b\b\b\b\b\b\b\b\b\b\b\b\b\b\b\b\b\b\b\b\b\b\b\b\b\b\b\b\b\b\b\b\b\b\b\b\b\b\b\b\b\b\b\r105/105 [==============================] - 209s 2s/step - loss: 0.0482 - accuracy: 0.9845 - val_loss: 1.0166 - val_accuracy: 0.7925 - lr: 0.0010\n",
            "Epoch 3/10\n",
            "105/105 [==============================] - ETA: 0s - loss: 0.0391 - accuracy: 0.9875WARNING:tensorflow:Can save best model only with val_acc available, skipping.\n"
          ]
        },
        {
          "output_type": "stream",
          "name": "stderr",
          "text": [
            "WARNING:tensorflow:Can save best model only with val_acc available, skipping.\n"
          ]
        },
        {
          "output_type": "stream",
          "name": "stdout",
          "text": [
            "\b\b\b\b\b\b\b\b\b\b\b\b\b\b\b\b\b\b\b\b\b\b\b\b\b\b\b\b\b\b\b\b\b\b\b\b\b\b\b\b\b\b\b\b\b\b\b\b\b\b\b\b\b\b\b\b\b\b\b\b\b\b\b\b\b\b\b\b\b\b\b\b\b\b\b\b\b\b\b\b\b\b\b\b\r105/105 [==============================] - 228s 2s/step - loss: 0.0391 - accuracy: 0.9875 - val_loss: 1.1142 - val_accuracy: 0.7680 - lr: 0.0010\n",
            "Epoch 4/10\n",
            "105/105 [==============================] - ETA: 0s - loss: 0.0440 - accuracy: 0.9857Restoring model weights from the end of the best epoch: 1.\n",
            "WARNING:tensorflow:Can save best model only with val_acc available, skipping.\n"
          ]
        },
        {
          "output_type": "stream",
          "name": "stderr",
          "text": [
            "WARNING:tensorflow:Can save best model only with val_acc available, skipping.\n"
          ]
        },
        {
          "output_type": "stream",
          "name": "stdout",
          "text": [
            "\n",
            "Epoch 4: ReduceLROnPlateau reducing learning rate to 0.00020000000949949026.\n",
            "105/105 [==============================] - 209s 2s/step - loss: 0.0440 - accuracy: 0.9857 - val_loss: 1.1135 - val_accuracy: 0.7779 - lr: 0.0010\n",
            "Epoch 4: early stopping\n"
          ]
        }
      ],
      "source": [
        "history = cnn.fit_generator(generator=train_datagen,\n",
        "                                steps_per_epoch=train_datagen.n//train_datagen.batch_size,\n",
        "                                epochs=10,\n",
        "                                validation_data = test_datagen,\n",
        "                                validation_steps = test_datagen.n//test_datagen.batch_size,\n",
        "                                callbacks=callbacks_list\n",
        "                                )"
      ]
    },
    {
      "cell_type": "code",
      "source": [
        "results = cnn.evaluate(test_datagen, verbose=2)\n",
        "print(results)\n",
        "print(f\"Test Accuracy: {np.round(results[1] * 100,2)}%\")"
      ],
      "metadata": {
        "colab": {
          "base_uri": "https://localhost:8080/"
        },
        "id": "4IUwoYSBpQyb",
        "outputId": "da887711-8f31-42da-edf7-a49fcd722e5f"
      },
      "execution_count": null,
      "outputs": [
        {
          "output_type": "stream",
          "name": "stdout",
          "text": [
            "27/27 - 22s - loss: 0.8154 - accuracy: 0.8154 - 22s/epoch - 827ms/step\n",
            "[0.8154205679893494, 0.815370500087738]\n",
            "Test Accuracy: 81.54%\n"
          ]
        }
      ]
    },
    {
      "cell_type": "code",
      "execution_count": null,
      "metadata": {
        "id": "jT5ofu0QbyXd"
      },
      "outputs": [],
      "source": [
        "predictions = np.argmax(cnn.predict(test_datagen), axis=1)\n",
        "matrix = confusion_matrix(test_datagen.labels, predictions)\n",
        "report= classification_report(test_datagen.labels, predictions, target_names=test_datagen.class_indices, zero_division=0)"
      ]
    },
    {
      "cell_type": "code",
      "execution_count": null,
      "metadata": {
        "id": "O49vphoCbyU7",
        "colab": {
          "base_uri": "https://localhost:8080/",
          "height": 1000
        },
        "outputId": "ba1da8db-731c-4cb2-bdf1-f1de12e087d0"
      },
      "outputs": [
        {
          "output_type": "display_data",
          "data": {
            "text/plain": [
              "<Figure size 2160x2160 with 2 Axes>"
            ],
            "image/png": "[encoded data removed]"
          },
          "metadata": {
            "needs_background": "light"
          }
        }
      ],
      "source": [
        "fig = plt.figure(figsize=(30, 30))\n",
        "sns.heatmap(matrix, annot=True, cmap='viridis')\n",
        "plt.xticks(ticks=np.arange(20) + 0.5, labels=test_datagen.class_indices, rotation=90)\n",
        "plt.yticks(ticks=np.arange(20) + 0.5, labels=test_datagen.class_indices, rotation=0)\n",
        "plt.title(\"Confusion Matrix\")\n",
        "plt.xlabel(\"Predicted\")\n",
        "plt.ylabel(\"Actual\")\n",
        "plt.show()\n",
        "fig.savefig(\"Confusion Matrix\",dpi=700)"
      ]
    },
    {
      "cell_type": "code",
      "execution_count": null,
      "metadata": {
        "id": "oxlPYIQqbySd",
        "colab": {
          "base_uri": "https://localhost:8080/"
        },
        "outputId": "b99b034b-54b0-4519-9149-963b3dfa47d4"
      },
      "outputs": [
        {
          "output_type": "stream",
          "name": "stdout",
          "text": [
            "Classification Report:\n",
            "                           precision    recall  f1-score   support\n",
            "\n",
            "   bacterial_leaf_blight       0.15      0.07      0.10       412\n",
            "   bacterial_leaf_streak       0.03      0.04      0.04        76\n",
            "bacterial_panicle_blight       0.00      0.00      0.00        67\n",
            "                   blast       0.19      0.24      0.21       635\n",
            "              brown_spot       0.16      0.17      0.17       513\n",
            "              dead_heart       0.10      0.11      0.11       290\n",
            "            downy_mildew       0.05      0.05      0.05       124\n",
            "                   hispa       0.09      0.09      0.09       318\n",
            "                  normal       0.14      0.11      0.12       352\n",
            "                  tungro       0.14      0.15      0.15       479\n",
            "\n",
            "                accuracy                           0.14      3266\n",
            "               macro avg       0.10      0.10      0.10      3266\n",
            "            weighted avg       0.14      0.14      0.13      3266\n",
            "\n"
          ]
        }
      ],
      "source": [
        "print(\"Classification Report:\\n\", report)"
      ]
    },
    {
      "cell_type": "code",
      "execution_count": null,
      "metadata": {
        "id": "fAtRQfBObyPF",
        "colab": {
          "base_uri": "https://localhost:8080/",
          "height": 175
        },
        "outputId": "f4bae753-15e0-4f19-ab18-856947534c4e"
      },
      "outputs": [
        {
          "output_type": "execute_result",
          "data": {
            "text/plain": [
              "       loss  accuracy  val_loss  val_accuracy     lr\n",
              "0  0.055043  0.982097  0.819515      0.814826  0.001\n",
              "1  0.048196  0.984490  1.016627      0.792494  0.001\n",
              "2  0.039131  0.987499  1.114184      0.767990  0.001\n",
              "3  0.043952  0.985724  1.113545      0.777916  0.001"
            ],
            "text/html": [
              "\n",
              "  <div id=\"df-bba467d4-80de-4f74-af71-0b704e53d667\">\n",
              "    <div class=\"colab-df-container\">\n",
              "      <div>\n",
              "<style scoped>\n",
              "    .dataframe tbody tr th:only-of-type {\n",
              "        vertical-align: middle;\n",
              "    }\n",
              "\n",
              "    .dataframe tbody tr th {\n",
              "        vertical-align: top;\n",
              "    }\n",
              "\n",
              "    .dataframe thead th {\n",
              "        text-align: right;\n",
              "    }\n",
              "</style>\n",
              "<table border=\"1\" class=\"dataframe\">\n",
              "  <thead>\n",
              "    <tr style=\"text-align: right;\">\n",
              "      <th></th>\n",
              "      <th>loss</th>\n",
              "      <th>accuracy</th>\n",
              "      <th>val_loss</th>\n",
              "      <th>val_accuracy</th>\n",
              "      <th>lr</th>\n",
              "    </tr>\n",
              "  </thead>\n",
              "  <tbody>\n",
              "    <tr>\n",
              "      <th>0</th>\n",
              "      <td>0.055043</td>\n",
              "      <td>0.982097</td>\n",
              "      <td>0.819515</td>\n",
              "      <td>0.814826</td>\n",
              "      <td>0.001</td>\n",
              "    </tr>\n",
              "    <tr>\n",
              "      <th>1</th>\n",
              "      <td>0.048196</td>\n",
              "      <td>0.984490</td>\n",
              "      <td>1.016627</td>\n",
              "      <td>0.792494</td>\n",
              "      <td>0.001</td>\n",
              "    </tr>\n",
              "    <tr>\n",
              "      <th>2</th>\n",
              "      <td>0.039131</td>\n",
              "      <td>0.987499</td>\n",
              "      <td>1.114184</td>\n",
              "      <td>0.767990</td>\n",
              "      <td>0.001</td>\n",
              "    </tr>\n",
              "    <tr>\n",
              "      <th>3</th>\n",
              "      <td>0.043952</td>\n",
              "      <td>0.985724</td>\n",
              "      <td>1.113545</td>\n",
              "      <td>0.777916</td>\n",
              "      <td>0.001</td>\n",
              "    </tr>\n",
              "  </tbody>\n",
              "</table>\n",
              "</div>\n",
              "      <button class=\"colab-df-convert\" onclick=\"convertToInteractive('df-bba467d4-80de-4f74-af71-0b704e53d667')\"\n",
              "              title=\"Convert this dataframe to an interactive table.\"\n",
              "              style=\"display:none;\">\n",
              "        \n",
              "  <svg xmlns=\"http://www.w3.org/2000/svg\" height=\"24px\"viewBox=\"0 0 24 24\"\n",
              "       width=\"24px\">\n",
              "    <path d=\"M0 0h24v24H0V0z\" fill=\"none\"/>\n",
              "    <path d=\"M18.56 5.44l.94 2.06.94-2.06 2.06-.94-2.06-.94-.94-2.06-.94 2.06-2.06.94zm-11 1L8.5 8.5l.94-2.06 2.06-.94-2.06-.94L8.5 2.5l-.94 2.06-2.06.94zm10 10l.94 2.06.94-2.06 2.06-.94-2.06-.94-.94-2.06-.94 2.06-2.06.94z\"/><path d=\"M17.41 7.96l-1.37-1.37c-.4-.4-.92-.59-1.43-.59-.52 0-1.04.2-1.43.59L10.3 9.45l-7.72 7.72c-.78.78-.78 2.05 0 2.83L4 21.41c.39.39.9.59 1.41.59.51 0 1.02-.2 1.41-.59l7.78-7.78 2.81-2.81c.8-.78.8-2.07 0-2.86zM5.41 20L4 18.59l7.72-7.72 1.47 1.35L5.41 20z\"/>\n",
              "  </svg>\n",
              "      </button>\n",
              "      \n",
              "  <style>\n",
              "    .colab-df-container {\n",
              "      display:flex;\n",
              "      flex-wrap:wrap;\n",
              "      gap: 12px;\n",
              "    }\n",
              "\n",
              "    .colab-df-convert {\n",
              "      background-color: #E8F0FE;\n",
              "      border: none;\n",
              "      border-radius: 50%;\n",
              "      cursor: pointer;\n",
              "      display: none;\n",
              "      fill: #1967D2;\n",
              "      height: 32px;\n",
              "      padding: 0 0 0 0;\n",
              "      width: 32px;\n",
              "    }\n",
              "\n",
              "    .colab-df-convert:hover {\n",
              "      background-color: #E2EBFA;\n",
              "      box-shadow: 0px 1px 2px rgba(60, 64, 67, 0.3), 0px 1px 3px 1px rgba(60, 64, 67, 0.15);\n",
              "      fill: #174EA6;\n",
              "    }\n",
              "\n",
              "    [theme=dark] .colab-df-convert {\n",
              "      background-color: #3B4455;\n",
              "      fill: #D2E3FC;\n",
              "    }\n",
              "\n",
              "    [theme=dark] .colab-df-convert:hover {\n",
              "      background-color: #434B5C;\n",
              "      box-shadow: 0px 1px 3px 1px rgba(0, 0, 0, 0.15);\n",
              "      filter: drop-shadow(0px 1px 2px rgba(0, 0, 0, 0.3));\n",
              "      fill: #FFFFFF;\n",
              "    }\n",
              "  </style>\n",
              "\n",
              "      <script>\n",
              "        const buttonEl =\n",
              "          document.querySelector('#df-bba467d4-80de-4f74-af71-0b704e53d667 button.colab-df-convert');\n",
              "        buttonEl.style.display =\n",
              "          google.colab.kernel.accessAllowed ? 'block' : 'none';\n",
              "\n",
              "        async function convertToInteractive(key) {\n",
              "          const element = document.querySelector('#df-bba467d4-80de-4f74-af71-0b704e53d667');\n",
              "          const dataTable =\n",
              "            await google.colab.kernel.invokeFunction('convertToInteractive',\n",
              "                                                     [key], {});\n",
              "          if (!dataTable) return;\n",
              "\n",
              "          const docLinkHtml = 'Like what you see? Visit the ' +\n",
              "            '<a target=\"_blank\" href=https://colab.research.google.com/notebooks/data_table.ipynb>data table notebook</a>'\n",
              "            + ' to learn more about interactive tables.';\n",
              "          element.innerHTML = '';\n",
              "          dataTable['output_type'] = 'display_data';\n",
              "          await google.colab.output.renderOutput(dataTable, element);\n",
              "          const docLink = document.createElement('div');\n",
              "          docLink.innerHTML = docLinkHtml;\n",
              "          element.appendChild(docLink);\n",
              "        }\n",
              "      </script>\n",
              "    </div>\n",
              "  </div>\n",
              "  "
            ]
          },
          "metadata": {},
          "execution_count": 28
        }
      ],
      "source": [
        "data_his = pd.DataFrame(history.history)\n",
        "data_his"
      ]
    },
    {
      "cell_type": "code",
      "source": [
        "plt.style.use('ggplot')\n",
        "fig = plt.figure(figsize=(18, 4))\n",
        "plt.plot(data_his['loss'], label = 'train')\n",
        "plt.plot(data_his['val_loss'], label = 'val')\n",
        "plt.legend()\n",
        "plt.title('Loss Function')\n",
        "plt.show()\n",
        "fig.savefig(\"Loss Function\",dpi=700)"
      ],
      "metadata": {
        "id": "WyNZcFUqLcMr",
        "colab": {
          "base_uri": "https://localhost:8080/",
          "height": 282
        },
        "outputId": "95e32db0-706e-4cfe-e9a7-c1178172dcaa"
      },
      "execution_count": null,
      "outputs": [
        {
          "output_type": "display_data",
          "data": {
            "text/plain": [
              "<Figure size 1296x288 with 1 Axes>"
            ],
            "image/png": "[encoded data removed]"
          },
          "metadata": {}
        }
      ]
    },
    {
      "cell_type": "code",
      "source": [
        "fig = plt.figure(figsize=(18, 4))\n",
        "plt.plot(data_his['accuracy'], label = 'train')\n",
        "plt.plot(data_his['val_accuracy'], label = 'val')\n",
        "plt.legend()\n",
        "plt.title('Accuracy Function')\n",
        "plt.show()\n",
        "fig.savefig(\"Accuracy Function\",dpi=700)"
      ],
      "metadata": {
        "id": "1kGH6qnnLhTw"
      },
      "execution_count": null,
      "outputs": []
    }
  ],
  "metadata": {
    "accelerator": "GPU",
    "colab": {
      "provenance": []
    },
    "gpuClass": "standard",
    "kernelspec": {
      "display_name": "Python 3",
      "name": "python3"
    },
    "language_info": {
      "name": "python"
    }
  },
  "nbformat": 4,
  "nbformat_minor": 0
}