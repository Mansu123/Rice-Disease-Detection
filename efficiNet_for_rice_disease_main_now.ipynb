{
  "cells": [
    {
      "cell_type": "code",
      "execution_count": null,
      "metadata": {
        "colab": {
          "base_uri": "https://localhost:8080/"
        },
        "id": "MNWDZzBltWma",
        "outputId": "b59ff98d-0c79-4ca3-8a9a-138fd99bbbf7"
      },
      "outputs": [
        {
          "output_type": "stream",
          "name": "stdout",
          "text": [
            "Collecting efficientnet-pytorch\n",
            "  Downloading efficientnet_pytorch-0.7.1.tar.gz (21 kB)\n",
            "  Preparing metadata (setup.py) ... \u001b[?25l\u001b[?25hdone\n",
            "Requirement already satisfied: torch in /usr/local/lib/python3.10/dist-packages (from efficientnet-pytorch) (2.1.0+cu118)\n",
            "Requirement already satisfied: filelock in /usr/local/lib/python3.10/dist-packages (from torch->efficientnet-pytorch) (3.13.1)\n",
            "Requirement already satisfied: typing-extensions in /usr/local/lib/python3.10/dist-packages (from torch->efficientnet-pytorch) (4.5.0)\n",
            "Requirement already satisfied: sympy in /usr/local/lib/python3.10/dist-packages (from torch->efficientnet-pytorch) (1.12)\n",
            "Requirement already satisfied: networkx in /usr/local/lib/python3.10/dist-packages (from torch->efficientnet-pytorch) (3.2.1)\n",
            "Requirement already satisfied: jinja2 in /usr/local/lib/python3.10/dist-packages (from torch->efficientnet-pytorch) (3.1.2)\n",
            "Requirement already satisfied: fsspec in /usr/local/lib/python3.10/dist-packages (from torch->efficientnet-pytorch) (2023.6.0)\n",
            "Requirement already satisfied: triton==2.1.0 in /usr/local/lib/python3.10/dist-packages (from torch->efficientnet-pytorch) (2.1.0)\n",
            "Requirement already satisfied: MarkupSafe>=2.0 in /usr/local/lib/python3.10/dist-packages (from jinja2->torch->efficientnet-pytorch) (2.1.3)\n",
            "Requirement already satisfied: mpmath>=0.19 in /usr/local/lib/python3.10/dist-packages (from sympy->torch->efficientnet-pytorch) (1.3.0)\n",
            "Building wheels for collected packages: efficientnet-pytorch\n",
            "  Building wheel for efficientnet-pytorch (setup.py) ... \u001b[?25l\u001b[?25hdone\n",
            "  Created wheel for efficientnet-pytorch: filename=efficientnet_pytorch-0.7.1-py3-none-any.whl size=16428 sha256=e203738f01fa4ca9bcd1619cf6c9b30dc77e1bd82075f3da8ab33d263ec730e4\n",
            "  Stored in directory: /root/.cache/pip/wheels/03/3f/e9/911b1bc46869644912bda90a56bcf7b960f20b5187feea3baf\n",
            "Successfully built efficientnet-pytorch\n",
            "Installing collected packages: efficientnet-pytorch\n",
            "Successfully installed efficientnet-pytorch-0.7.1\n"
          ]
        }
      ],
      "source": [
        "!pip install efficientnet-pytorch"
      ]
    },
    {
      "cell_type": "code",
      "execution_count": null,
      "metadata": {
        "id": "gh3UuA1GrPaX"
      },
      "outputs": [],
      "source": [
        "import torch\n",
        "import torchvision\n",
        "import torchvision.transforms as transforms\n",
        "import torch.nn as nn\n",
        "import torch.optim as optim\n",
        "from torch.utils.data import DataLoader, random_split\n",
        "from torchvision.datasets import ImageFolder\n",
        "from torch.utils.tensorboard import SummaryWriter\n",
        "from PIL import UnidentifiedImageError\n",
        "import os\n",
        "from efficientnet_pytorch import EfficientNet"
      ]
    },
    {
      "cell_type": "code",
      "execution_count": null,
      "metadata": {
        "id": "Gz3tcgGDrQxO"
      },
      "outputs": [],
      "source": [
        "import os\n",
        "from os import walk\n",
        "import numpy as np\n",
        "import pandas as pd\n",
        "import matplotlib.pyplot as plt\n",
        "from PIL import Image\n",
        "from sklearn.utils import shuffle\n",
        "from sklearn.model_selection import train_test_split\n",
        "import torch\n",
        "from torch import nn\n",
        "import torch.nn.functional as F\n",
        "from torch.utils.data import DataLoader, Dataset\n",
        "from torchvision import transforms\n"
      ]
    },
    {
      "cell_type": "code",
      "execution_count": null,
      "metadata": {
        "id": "doOUMq73rQ0S"
      },
      "outputs": [],
      "source": [
        "from torch.nn import ReLU\n",
        "from torch.nn import Softmax\n",
        "from torch.nn import Module\n",
        "from torch.optim import SGD\n",
        "from torch.nn import CrossEntropyLoss\n",
        "from torch.nn import Linear\n",
        "from torch.nn.init import kaiming_uniform_\n",
        "from torch.nn.init import xavier_uniform_\n",
        "from torch.nn import Conv2d\n",
        "from torch.nn import BatchNorm2d\n",
        "from torch.nn import MaxPool2d\n",
        "from torch.nn import Dropout\n",
        "from torch.nn import Sequential\n",
        "import torchvision.models as models\n",
        "\n"
      ]
    },
    {
      "cell_type": "code",
      "execution_count": null,
      "metadata": {
        "id": "PlPRcPJNrQ3P",
        "colab": {
          "base_uri": "https://localhost:8080/"
        },
        "outputId": "c8475270-e412-471c-b962-7027fb2bc107"
      },
      "outputs": [
        {
          "output_type": "stream",
          "name": "stdout",
          "text": [
            "\u001b[?25l     \u001b[90m━━━━━━━━━━━━━━━━━━━━━━━━━━━━━━━━━━━━━━━━\u001b[0m \u001b[32m0.0/138.1 kB\u001b[0m \u001b[31m?\u001b[0m eta \u001b[36m-:--:--\u001b[0m\r\u001b[2K     \u001b[91m━━━━━━━━━━━━━━━━━━━━━━━━━━━━━━━━━━━━━━\u001b[0m\u001b[91m╸\u001b[0m\u001b[90m━\u001b[0m \u001b[32m133.1/138.1 kB\u001b[0m \u001b[31m4.2 MB/s\u001b[0m eta \u001b[36m0:00:01\u001b[0m\r\u001b[2K     \u001b[90m━━━━━━━━━━━━━━━━━━━━━━━━━━━━━━━━━━━━━━━━\u001b[0m \u001b[32m138.1/138.1 kB\u001b[0m \u001b[31m3.6 MB/s\u001b[0m eta \u001b[36m0:00:00\u001b[0m\n",
            "\u001b[?25h"
          ]
        }
      ],
      "source": [
        "try:\n",
        "    import torchbearer\n",
        "except:\n",
        "    !pip install -q torchbearer\n",
        "    import torchbearer"
      ]
    },
    {
      "cell_type": "code",
      "execution_count": null,
      "metadata": {
        "id": "7Ayl_hTrrQ6W"
      },
      "outputs": [],
      "source": [
        "try:\n",
        "    from efficientnet_pytorch import EfficientNet\n",
        "except:\n",
        "    !pip install efficientnet_pytorch\n",
        "    from efficientnet_pytorch import EfficientNet"
      ]
    },
    {
      "cell_type": "markdown",
      "metadata": {
        "id": "bbl8oq5o2P_W"
      },
      "source": [
        "**Preparing the trainer**"
      ]
    },
    {
      "cell_type": "code",
      "execution_count": null,
      "metadata": {
        "id": "MjyRYgwT2PFY"
      },
      "outputs": [],
      "source": [
        "import torchbearer\n",
        "from torchbearer.callbacks import imaging\n",
        "\n",
        "inv_normalize = transforms.Normalize(\n",
        "    mean=[-0.485/0.229, -0.456/0.224, -0.406/0.255],\n",
        "    std=[1/0.229, 1/0.224, 1/0.255]\n",
        ")\n",
        "\n",
        "make_grid = imaging.MakeGrid(torchbearer.INPUT, num_images=64, nrow=8, transform=inv_normalize)\n",
        "make_grid = make_grid.on_test().to_pyplot().to_file('sample.png')"
      ]
    },
    {
      "cell_type": "code",
      "execution_count": null,
      "metadata": {
        "id": "V0WKjg2RrQ_f"
      },
      "outputs": [],
      "source": [
        "import torchbearer\n",
        "from torchbearer import Trial\n",
        "\n",
        "# If you have tensorboardX installed then write to tensorboard, else don't\n",
        "import sys\n",
        "if 'tensorboardX' in sys.modules:\n",
        "  import tensorboardX\n",
        "  from torchbearer.callbacks import TensorBoard\n",
        "  callbacks = [TensorBoard(write_batch_metrics=True)]\n",
        "else:\n",
        "  callbacks = []\n",
        "\n",
        "callbacks.append(make_grid)"
      ]
    },
    {
      "cell_type": "code",
      "execution_count": null,
      "metadata": {
        "id": "MJPU5JCLrRCH",
        "colab": {
          "base_uri": "https://localhost:8080/"
        },
        "outputId": "0a3bff2b-9645-469f-ed66-7f64aa576105"
      },
      "outputs": [
        {
          "output_type": "stream",
          "name": "stdout",
          "text": [
            "Mounted at /content/drive\n"
          ]
        }
      ],
      "source": [
        "from google.colab import drive\n",
        "drive.mount('/content/drive')"
      ]
    },
    {
      "cell_type": "markdown",
      "metadata": {
        "id": "TnvSWlvQ2uv_"
      },
      "source": [
        "**Arrenging the dataset loader**"
      ]
    },
    {
      "cell_type": "code",
      "execution_count": null,
      "metadata": {
        "id": "15GKPXjo2t_3"
      },
      "outputs": [],
      "source": [
        "HP = {\n",
        "    'epochs': 25,\n",
        "    'batch_size': 32,\n",
        "    'learning_rate': 1e-3,\n",
        "    'momentum': 0.9,\n",
        "    'test_size': 0.05,\n",
        "    'seed': 1\n",
        "}"
      ]
    },
    {
      "cell_type": "code",
      "execution_count": null,
      "metadata": {
        "id": "Zqi9ym8erRE4",
        "colab": {
          "base_uri": "https://localhost:8080/"
        },
        "outputId": "cc691e10-b45f-4204-a6e7-edf693f13119"
      },
      "outputs": [
        {
          "output_type": "stream",
          "name": "stdout",
          "text": [
            "using cuda device\n"
          ]
        }
      ],
      "source": [
        "torch.manual_seed(HP['seed'])\n",
        "device = 'cuda' if torch.cuda.is_available() else 'cpu'\n",
        "if device == 'cuda':\n",
        "    torch.backends.cudnn.benchmark = True\n",
        "print(f'using {device} device')"
      ]
    },
    {
      "cell_type": "code",
      "execution_count": null,
      "metadata": {
        "id": "0i59PkZIS_gB"
      },
      "outputs": [],
      "source": [
        "\n",
        "import torch\n",
        "import torchvision\n",
        "import torchvision.transforms as transforms\n",
        "import torchvision.models as models\n",
        "import torch.nn as nn\n",
        "import torch.optim as optim\n",
        "from torch.utils.data import DataLoader, random_split\n",
        "from torchvision.datasets import ImageFolder\n",
        "from torch.utils.tensorboard import SummaryWriter\n",
        "from PIL import UnidentifiedImageError\n",
        "import os"
      ]
    },
    {
      "cell_type": "code",
      "execution_count": null,
      "metadata": {
        "id": "Rh1_43q4NEnB"
      },
      "outputs": [],
      "source": [
        "import pandas as pd\n",
        "\n",
        "\n",
        "dataset_file = '/content/drive/MyDrive/CSV file of rice disease/rice_shuffled2.csv'\n",
        "\n",
        "\n"
      ]
    },
    {
      "cell_type": "code",
      "execution_count": null,
      "metadata": {
        "id": "AcI0v8SXrRH3",
        "colab": {
          "base_uri": "https://localhost:8080/",
          "height": 242
        },
        "outputId": "79c905a1-6a86-403b-bec3-abcb656b5638"
      },
      "outputs": [
        {
          "output_type": "stream",
          "name": "stdout",
          "text": [
            "count: 17929 \n",
            "\n"
          ]
        },
        {
          "output_type": "execute_result",
          "data": {
            "text/plain": [
              "   Unnamed: 0                                     Image Location  Category No  \\\n",
              "0       17267  /content/drive/MyDrive/paddy/Paddy main/normal...            9   \n",
              "1        6088  /content/drive/MyDrive/paddy/Paddy main/hispa/...            4   \n",
              "2        4984  /content/drive/MyDrive/paddy/Paddy main/hispa/...            4   \n",
              "3        3770  /content/drive/MyDrive/paddy/Paddy main/brown_...            3   \n",
              "4        1069  /content/drive/MyDrive/paddy/Paddy main/dead_h...            1   \n",
              "\n",
              "     Category  \n",
              "0      normal  \n",
              "1       hispa  \n",
              "2       hispa  \n",
              "3  brown_spot  \n",
              "4  dead_heart  "
            ],
            "text/html": [
              "\n",
              "  <div id=\"df-6c404b1e-5f96-46b1-a3b4-f3abec85652c\" class=\"colab-df-container\">\n",
              "    <div>\n",
              "<style scoped>\n",
              "    .dataframe tbody tr th:only-of-type {\n",
              "        vertical-align: middle;\n",
              "    }\n",
              "\n",
              "    .dataframe tbody tr th {\n",
              "        vertical-align: top;\n",
              "    }\n",
              "\n",
              "    .dataframe thead th {\n",
              "        text-align: right;\n",
              "    }\n",
              "</style>\n",
              "<table border=\"1\" class=\"dataframe\">\n",
              "  <thead>\n",
              "    <tr style=\"text-align: right;\">\n",
              "      <th></th>\n",
              "      <th>Unnamed: 0</th>\n",
              "      <th>Image Location</th>\n",
              "      <th>Category No</th>\n",
              "      <th>Category</th>\n",
              "    </tr>\n",
              "  </thead>\n",
              "  <tbody>\n",
              "    <tr>\n",
              "      <th>0</th>\n",
              "      <td>17267</td>\n",
              "      <td>/content/drive/MyDrive/paddy/Paddy main/normal...</td>\n",
              "      <td>9</td>\n",
              "      <td>normal</td>\n",
              "    </tr>\n",
              "    <tr>\n",
              "      <th>1</th>\n",
              "      <td>6088</td>\n",
              "      <td>/content/drive/MyDrive/paddy/Paddy main/hispa/...</td>\n",
              "      <td>4</td>\n",
              "      <td>hispa</td>\n",
              "    </tr>\n",
              "    <tr>\n",
              "      <th>2</th>\n",
              "      <td>4984</td>\n",
              "      <td>/content/drive/MyDrive/paddy/Paddy main/hispa/...</td>\n",
              "      <td>4</td>\n",
              "      <td>hispa</td>\n",
              "    </tr>\n",
              "    <tr>\n",
              "      <th>3</th>\n",
              "      <td>3770</td>\n",
              "      <td>/content/drive/MyDrive/paddy/Paddy main/brown_...</td>\n",
              "      <td>3</td>\n",
              "      <td>brown_spot</td>\n",
              "    </tr>\n",
              "    <tr>\n",
              "      <th>4</th>\n",
              "      <td>1069</td>\n",
              "      <td>/content/drive/MyDrive/paddy/Paddy main/dead_h...</td>\n",
              "      <td>1</td>\n",
              "      <td>dead_heart</td>\n",
              "    </tr>\n",
              "  </tbody>\n",
              "</table>\n",
              "</div>\n",
              "    <div class=\"colab-df-buttons\">\n",
              "\n",
              "  <div class=\"colab-df-container\">\n",
              "    <button class=\"colab-df-convert\" onclick=\"convertToInteractive('df-6c404b1e-5f96-46b1-a3b4-f3abec85652c')\"\n",
              "            title=\"Convert this dataframe to an interactive table.\"\n",
              "            style=\"display:none;\">\n",
              "\n",
              "  <svg xmlns=\"http://www.w3.org/2000/svg\" height=\"24px\" viewBox=\"0 -960 960 960\">\n",
              "    <path d=\"M120-120v-720h720v720H120Zm60-500h600v-160H180v160Zm220 220h160v-160H400v160Zm0 220h160v-160H400v160ZM180-400h160v-160H180v160Zm440 0h160v-160H620v160ZM180-180h160v-160H180v160Zm440 0h160v-160H620v160Z\"/>\n",
              "  </svg>\n",
              "    </button>\n",
              "\n",
              "  <style>\n",
              "    .colab-df-container {\n",
              "      display:flex;\n",
              "      gap: 12px;\n",
              "    }\n",
              "\n",
              "    .colab-df-convert {\n",
              "      background-color: #E8F0FE;\n",
              "      border: none;\n",
              "      border-radius: 50%;\n",
              "      cursor: pointer;\n",
              "      display: none;\n",
              "      fill: #1967D2;\n",
              "      height: 32px;\n",
              "      padding: 0 0 0 0;\n",
              "      width: 32px;\n",
              "    }\n",
              "\n",
              "    .colab-df-convert:hover {\n",
              "      background-color: #E2EBFA;\n",
              "      box-shadow: 0px 1px 2px rgba(60, 64, 67, 0.3), 0px 1px 3px 1px rgba(60, 64, 67, 0.15);\n",
              "      fill: #174EA6;\n",
              "    }\n",
              "\n",
              "    .colab-df-buttons div {\n",
              "      margin-bottom: 4px;\n",
              "    }\n",
              "\n",
              "    [theme=dark] .colab-df-convert {\n",
              "      background-color: #3B4455;\n",
              "      fill: #D2E3FC;\n",
              "    }\n",
              "\n",
              "    [theme=dark] .colab-df-convert:hover {\n",
              "      background-color: #434B5C;\n",
              "      box-shadow: 0px 1px 3px 1px rgba(0, 0, 0, 0.15);\n",
              "      filter: drop-shadow(0px 1px 2px rgba(0, 0, 0, 0.3));\n",
              "      fill: #FFFFFF;\n",
              "    }\n",
              "  </style>\n",
              "\n",
              "    <script>\n",
              "      const buttonEl =\n",
              "        document.querySelector('#df-6c404b1e-5f96-46b1-a3b4-f3abec85652c button.colab-df-convert');\n",
              "      buttonEl.style.display =\n",
              "        google.colab.kernel.accessAllowed ? 'block' : 'none';\n",
              "\n",
              "      async function convertToInteractive(key) {\n",
              "        const element = document.querySelector('#df-6c404b1e-5f96-46b1-a3b4-f3abec85652c');\n",
              "        const dataTable =\n",
              "          await google.colab.kernel.invokeFunction('convertToInteractive',\n",
              "                                                    [key], {});\n",
              "        if (!dataTable) return;\n",
              "\n",
              "        const docLinkHtml = 'Like what you see? Visit the ' +\n",
              "          '<a target=\"_blank\" href=https://colab.research.google.com/notebooks/data_table.ipynb>data table notebook</a>'\n",
              "          + ' to learn more about interactive tables.';\n",
              "        element.innerHTML = '';\n",
              "        dataTable['output_type'] = 'display_data';\n",
              "        await google.colab.output.renderOutput(dataTable, element);\n",
              "        const docLink = document.createElement('div');\n",
              "        docLink.innerHTML = docLinkHtml;\n",
              "        element.appendChild(docLink);\n",
              "      }\n",
              "    </script>\n",
              "  </div>\n",
              "\n",
              "\n",
              "<div id=\"df-30d5c87e-5183-46fe-b714-e5bfdbc87166\">\n",
              "  <button class=\"colab-df-quickchart\" onclick=\"quickchart('df-30d5c87e-5183-46fe-b714-e5bfdbc87166')\"\n",
              "            title=\"Suggest charts\"\n",
              "            style=\"display:none;\">\n",
              "\n",
              "<svg xmlns=\"http://www.w3.org/2000/svg\" height=\"24px\"viewBox=\"0 0 24 24\"\n",
              "     width=\"24px\">\n",
              "    <g>\n",
              "        <path d=\"M19 3H5c-1.1 0-2 .9-2 2v14c0 1.1.9 2 2 2h14c1.1 0 2-.9 2-2V5c0-1.1-.9-2-2-2zM9 17H7v-7h2v7zm4 0h-2V7h2v10zm4 0h-2v-4h2v4z\"/>\n",
              "    </g>\n",
              "</svg>\n",
              "  </button>\n",
              "\n",
              "<style>\n",
              "  .colab-df-quickchart {\n",
              "      --bg-color: #E8F0FE;\n",
              "      --fill-color: #1967D2;\n",
              "      --hover-bg-color: #E2EBFA;\n",
              "      --hover-fill-color: #174EA6;\n",
              "      --disabled-fill-color: #AAA;\n",
              "      --disabled-bg-color: #DDD;\n",
              "  }\n",
              "\n",
              "  [theme=dark] .colab-df-quickchart {\n",
              "      --bg-color: #3B4455;\n",
              "      --fill-color: #D2E3FC;\n",
              "      --hover-bg-color: #434B5C;\n",
              "      --hover-fill-color: #FFFFFF;\n",
              "      --disabled-bg-color: #3B4455;\n",
              "      --disabled-fill-color: #666;\n",
              "  }\n",
              "\n",
              "  .colab-df-quickchart {\n",
              "    background-color: var(--bg-color);\n",
              "    border: none;\n",
              "    border-radius: 50%;\n",
              "    cursor: pointer;\n",
              "    display: none;\n",
              "    fill: var(--fill-color);\n",
              "    height: 32px;\n",
              "    padding: 0;\n",
              "    width: 32px;\n",
              "  }\n",
              "\n",
              "  .colab-df-quickchart:hover {\n",
              "    background-color: var(--hover-bg-color);\n",
              "    box-shadow: 0 1px 2px rgba(60, 64, 67, 0.3), 0 1px 3px 1px rgba(60, 64, 67, 0.15);\n",
              "    fill: var(--button-hover-fill-color);\n",
              "  }\n",
              "\n",
              "  .colab-df-quickchart-complete:disabled,\n",
              "  .colab-df-quickchart-complete:disabled:hover {\n",
              "    background-color: var(--disabled-bg-color);\n",
              "    fill: var(--disabled-fill-color);\n",
              "    box-shadow: none;\n",
              "  }\n",
              "\n",
              "  .colab-df-spinner {\n",
              "    border: 2px solid var(--fill-color);\n",
              "    border-color: transparent;\n",
              "    border-bottom-color: var(--fill-color);\n",
              "    animation:\n",
              "      spin 1s steps(1) infinite;\n",
              "  }\n",
              "\n",
              "  @keyframes spin {\n",
              "    0% {\n",
              "      border-color: transparent;\n",
              "      border-bottom-color: var(--fill-color);\n",
              "      border-left-color: var(--fill-color);\n",
              "    }\n",
              "    20% {\n",
              "      border-color: transparent;\n",
              "      border-left-color: var(--fill-color);\n",
              "      border-top-color: var(--fill-color);\n",
              "    }\n",
              "    30% {\n",
              "      border-color: transparent;\n",
              "      border-left-color: var(--fill-color);\n",
              "      border-top-color: var(--fill-color);\n",
              "      border-right-color: var(--fill-color);\n",
              "    }\n",
              "    40% {\n",
              "      border-color: transparent;\n",
              "      border-right-color: var(--fill-color);\n",
              "      border-top-color: var(--fill-color);\n",
              "    }\n",
              "    60% {\n",
              "      border-color: transparent;\n",
              "      border-right-color: var(--fill-color);\n",
              "    }\n",
              "    80% {\n",
              "      border-color: transparent;\n",
              "      border-right-color: var(--fill-color);\n",
              "      border-bottom-color: var(--fill-color);\n",
              "    }\n",
              "    90% {\n",
              "      border-color: transparent;\n",
              "      border-bottom-color: var(--fill-color);\n",
              "    }\n",
              "  }\n",
              "</style>\n",
              "\n",
              "  <script>\n",
              "    async function quickchart(key) {\n",
              "      const quickchartButtonEl =\n",
              "        document.querySelector('#' + key + ' button');\n",
              "      quickchartButtonEl.disabled = true;  // To prevent multiple clicks.\n",
              "      quickchartButtonEl.classList.add('colab-df-spinner');\n",
              "      try {\n",
              "        const charts = await google.colab.kernel.invokeFunction(\n",
              "            'suggestCharts', [key], {});\n",
              "      } catch (error) {\n",
              "        console.error('Error during call to suggestCharts:', error);\n",
              "      }\n",
              "      quickchartButtonEl.classList.remove('colab-df-spinner');\n",
              "      quickchartButtonEl.classList.add('colab-df-quickchart-complete');\n",
              "    }\n",
              "    (() => {\n",
              "      let quickchartButtonEl =\n",
              "        document.querySelector('#df-30d5c87e-5183-46fe-b714-e5bfdbc87166 button');\n",
              "      quickchartButtonEl.style.display =\n",
              "        google.colab.kernel.accessAllowed ? 'block' : 'none';\n",
              "    })();\n",
              "  </script>\n",
              "</div>\n",
              "    </div>\n",
              "  </div>\n"
            ]
          },
          "metadata": {},
          "execution_count": 14
        }
      ],
      "source": [
        "\n",
        "\n",
        "\n",
        "df = pd.read_csv(dataset_file)\n",
        "\n",
        "\n",
        "print(f'count: {len(df)} \\n')\n",
        "df.head(5)"
      ]
    },
    {
      "cell_type": "code",
      "execution_count": null,
      "metadata": {
        "id": "J3QYRL95rRMm",
        "colab": {
          "base_uri": "https://localhost:8080/"
        },
        "outputId": "73c97578-1a3a-4463-de98-01d498d421ae"
      },
      "outputs": [
        {
          "output_type": "stream",
          "name": "stdout",
          "text": [
            "train len: 17032, test len: 897\n"
          ]
        }
      ],
      "source": [
        "train_df, test_df = train_test_split(df, test_size=HP['test_size'])\n",
        "print(f'train len: {len(train_df)}, test len: {len(test_df)}')"
      ]
    },
    {
      "cell_type": "code",
      "execution_count": null,
      "metadata": {
        "id": "_GbfhraPAOLh",
        "colab": {
          "base_uri": "https://localhost:8080/"
        },
        "outputId": "20fcf605-44e1-4f0e-a640-4873730a1051"
      },
      "outputs": [
        {
          "output_type": "execute_result",
          "data": {
            "text/plain": [
              "normal                      3192\n",
              "blast                       3023\n",
              "hispa                       2537\n",
              "brown_spot                  2441\n",
              "bacterial_leaf_blight       1721\n",
              "tungro                      1460\n",
              "dead_heart                  1379\n",
              "downy_mildew                 592\n",
              "bacterial_leaf_streak        366\n",
              "bacterial_panicle_blight     321\n",
              "Name: Category, dtype: int64"
            ]
          },
          "metadata": {},
          "execution_count": 16
        }
      ],
      "source": [
        "train_df['Category'].value_counts()"
      ]
    },
    {
      "cell_type": "code",
      "execution_count": null,
      "metadata": {
        "id": "6Ad52JiZaT1K"
      },
      "outputs": [],
      "source": [
        "train_transform = transforms.Compose([\n",
        "    transforms.RandomHorizontalFlip(),\n",
        "    transforms.RandomVerticalFlip(),\n",
        "    transforms.RandomChoice([\n",
        "        transforms.Pad(padding=10),\n",
        "        transforms.CenterCrop(480),\n",
        "        transforms.RandomRotation(60),\n",
        "        transforms.CenterCrop((576,432)),\n",
        "        transforms.ColorJitter(\n",
        "            brightness=0.1,\n",
        "            contrast=0.1,\n",
        "            saturation=0.1,\n",
        "            hue=0.1\n",
        "        )\n",
        "    ]),\n",
        "    transforms.Resize((224,224)),\n",
        "    transforms.ToTensor(),\n",
        "    transforms.Normalize([0.485, 0.456, 0.406], [0.229, 0.224, 0.225])\n",
        "])\n",
        "\n",
        "test_transform = transforms.Compose([\n",
        "    transforms.Resize((224,224)),\n",
        "    transforms.ToTensor(),\n",
        "    transforms.Normalize([0.485, 0.456, 0.406], [0.229, 0.224, 0.225])\n",
        "])\n",
        "\n",
        "class PaddyDataset(Dataset):\n",
        "    def __init__(self, df, transforms):\n",
        "        self.df = df\n",
        "\n",
        "        self.transforms = transforms\n",
        "        #self.df = self.df.values.tolist()\n",
        "\n",
        "    def __len__(self):\n",
        "        return len(self.df)\n",
        "\n",
        "    def __getitem__(self, idx):\n",
        "\n",
        "        image = Image.open(self.df.iloc[idx]['Image Location']).convert('RGB')\n",
        "        image = self.transforms(image)\n",
        "        idx =self.df.iloc[idx]['Category No']\n",
        "\n",
        "        return image, int(idx)\n",
        "\n",
        "\n",
        "train_dataset = PaddyDataset(train_df, train_transform)\n",
        "test_dataset = PaddyDataset(test_df, test_transform)\n",
        "#test_dataloader = DataLoader(test_dataset, batch_size=HP['batch_size'], shuffle=True, pin_memory=True)"
      ]
    },
    {
      "cell_type": "code",
      "execution_count": null,
      "metadata": {
        "id": "ZER22wGhzfZM"
      },
      "outputs": [],
      "source": [
        "train_dataloader = DataLoader(train_dataset, batch_size=55, shuffle=True, pin_memory=True)\n",
        "test_dataloader = DataLoader(test_dataset, batch_size=55, shuffle=True, pin_memory=True)"
      ]
    },
    {
      "cell_type": "code",
      "execution_count": null,
      "metadata": {
        "id": "0kWzZZMPOwWP"
      },
      "outputs": [],
      "source": [
        "import os\n",
        "\n",
        "class PaddyDataset(Dataset):\n",
        "    def __init__(self, df, transforms):\n",
        "        self.df = df\n",
        "        self.transforms = transforms\n",
        "        self.valid_file_paths = self._get_valid_file_paths()\n",
        "\n",
        "    def _get_valid_file_paths(self):\n",
        "        valid_paths = []\n",
        "        for idx, row in self.df.iterrows():\n",
        "            image_path = row['Image Location']\n",
        "            if os.path.exists(image_path):\n",
        "                valid_paths.append(image_path)\n",
        "            else:\n",
        "                print(f\"Invalid file path: {image_path}\")\n",
        "        return valid_paths\n",
        "\n",
        "    def __len__(self):\n",
        "        return len(self.valid_file_paths)\n",
        "\n",
        "    def __getitem__(self, idx):\n",
        "        image_path = self.valid_file_paths[idx]\n",
        "\n",
        "        try:\n",
        "            image = Image.open(image_path).convert('RGB')\n",
        "            image = self.transforms(image)\n",
        "            category_idx = self.df[self.df['Image Location'] == image_path]['Category No'].values[0]\n",
        "            return image, int(category_idx)\n",
        "        except Exception as e:\n",
        "            # Handle other exceptions (e.g., corrupted images) here\n",
        "            print(f\"Error loading image at index {idx}: {e}\")\n",
        "            # Return None or a special token to indicate an error\n",
        "            return None, -1\n"
      ]
    },
    {
      "cell_type": "code",
      "execution_count": null,
      "metadata": {
        "id": "yU8le82CO0Se"
      },
      "outputs": [],
      "source": [
        "# Filter out rows with invalid file paths directly from the DataFrame\n",
        "train_df = train_df[train_df['Image Location'].apply(lambda x: os.path.exists(x))]\n",
        "test_df = test_df[test_df['Image Location'].apply(lambda x: os.path.exists(x))]\n"
      ]
    },
    {
      "cell_type": "code",
      "execution_count": null,
      "metadata": {
        "id": "wUl1jUJMO0LH"
      },
      "outputs": [],
      "source": [
        "# Create the dataset with the valid file paths\n",
        "train_dataset = PaddyDataset(train_df, train_transform)\n",
        "test_dataset = PaddyDataset(test_df, test_transform)\n"
      ]
    },
    {
      "cell_type": "code",
      "execution_count": null,
      "metadata": {
        "id": "YBHywjb6O9Ue",
        "colab": {
          "base_uri": "https://localhost:8080/"
        },
        "outputId": "b4460d67-c9c6-45c6-f221-d0606d29746b"
      },
      "outputs": [
        {
          "output_type": "stream",
          "name": "stdout",
          "text": [
            "Number of samples in the train dataset: 17032\n",
            "Number of samples in the test dataset: 897\n"
          ]
        }
      ],
      "source": [
        "# Print the number of samples in your datasets\n",
        "print(f\"Number of samples in the train dataset: {len(train_dataset)}\")\n",
        "print(f\"Number of samples in the test dataset: {len(test_dataset)}\")\n"
      ]
    },
    {
      "cell_type": "markdown",
      "metadata": {
        "id": "cVATYAA86PrX"
      },
      "source": [
        "**Trainer**"
      ]
    },
    {
      "cell_type": "code",
      "execution_count": null,
      "metadata": {
        "id": "l1L9R2IerRZ3"
      },
      "outputs": [],
      "source": [
        "def trainer(model,epochs,lr,device=device):\n",
        "  loss = torch.nn.CrossEntropyLoss()\n",
        "  optimizer = torch.optim.Adam(model.parameters(), lr=lr)\n",
        "  trial = Trial(model, optimizer,loss, metrics=['acc', 'loss'], callbacks=callbacks).to(device)\n",
        "  trial.with_generators(train_generator=train_dataloader, val_generator=test_dataloader)\n",
        "  history = trial.run(epochs=epochs, verbose=2)\n",
        "  return history"
      ]
    },
    {
      "cell_type": "markdown",
      "metadata": {
        "id": "5Q0sEAv56W-H"
      },
      "source": [
        "**Save model**"
      ]
    },
    {
      "cell_type": "code",
      "execution_count": null,
      "metadata": {
        "id": "b3UgbBWArRfg"
      },
      "outputs": [],
      "source": [
        "import os\n",
        "def save_model(model,savefile_Name):\n",
        "  checkpoint = {'state_dict': model.state_dict()}\n",
        "  torch.save(checkpoint, os.path.join('gdrive/MyDrive/',savefile_Name))"
      ]
    },
    {
      "cell_type": "markdown",
      "metadata": {
        "id": "hg8g-VrE6b1-"
      },
      "source": [
        "**model**"
      ]
    },
    {
      "cell_type": "code",
      "execution_count": null,
      "metadata": {
        "id": "EzK7e64PrSq3",
        "colab": {
          "base_uri": "https://localhost:8080/"
        },
        "outputId": "1515354a-f37d-4c74-be0a-d51b4e47d521"
      },
      "outputs": [
        {
          "output_type": "stream",
          "name": "stdout",
          "text": [
            "Collecting torch-intermediate-layer-getter\n",
            "  Downloading torch_intermediate_layer_getter-0.1.post1.tar.gz (3.0 kB)\n",
            "  Preparing metadata (setup.py) ... \u001b[?25l\u001b[?25hdone\n",
            "Building wheels for collected packages: torch-intermediate-layer-getter\n",
            "  Building wheel for torch-intermediate-layer-getter (setup.py) ... \u001b[?25l\u001b[?25hdone\n",
            "  Created wheel for torch-intermediate-layer-getter: filename=torch_intermediate_layer_getter-0.1.post1-py3-none-any.whl size=3705 sha256=f2baf50d68f5f1d6e78fbbb64924576a2407518276df9a4635b0dd5451043b17\n",
            "  Stored in directory: /root/.cache/pip/wheels/6a/11/c0/30d81aa26172d10d68ffaf352b0762eb9fe0a5f5dcf3de63e0\n",
            "Successfully built torch-intermediate-layer-getter\n",
            "Installing collected packages: torch-intermediate-layer-getter\n",
            "Successfully installed torch-intermediate-layer-getter-0.1.post1\n"
          ]
        }
      ],
      "source": [
        "!pip install torch-intermediate-layer-getter"
      ]
    },
    {
      "cell_type": "code",
      "execution_count": null,
      "metadata": {
        "id": "o5Hj9ieDrSuG"
      },
      "outputs": [],
      "source": [
        "from torch_intermediate_layer_getter import IntermediateLayerGetter as MidGetter"
      ]
    },
    {
      "cell_type": "code",
      "execution_count": null,
      "metadata": {
        "id": "qdsliijtxfec",
        "colab": {
          "base_uri": "https://localhost:8080/"
        },
        "outputId": "ac390d1b-5b0b-46a4-928e-dc2348c90a69"
      },
      "outputs": [
        {
          "output_type": "stream",
          "name": "stdout",
          "text": [
            "Requirement already satisfied: efficientnet-pytorch in /usr/local/lib/python3.10/dist-packages (0.7.1)\n",
            "Requirement already satisfied: torch in /usr/local/lib/python3.10/dist-packages (from efficientnet-pytorch) (2.1.0+cu118)\n",
            "Requirement already satisfied: filelock in /usr/local/lib/python3.10/dist-packages (from torch->efficientnet-pytorch) (3.13.1)\n",
            "Requirement already satisfied: typing-extensions in /usr/local/lib/python3.10/dist-packages (from torch->efficientnet-pytorch) (4.5.0)\n",
            "Requirement already satisfied: sympy in /usr/local/lib/python3.10/dist-packages (from torch->efficientnet-pytorch) (1.12)\n",
            "Requirement already satisfied: networkx in /usr/local/lib/python3.10/dist-packages (from torch->efficientnet-pytorch) (3.2.1)\n",
            "Requirement already satisfied: jinja2 in /usr/local/lib/python3.10/dist-packages (from torch->efficientnet-pytorch) (3.1.2)\n",
            "Requirement already satisfied: fsspec in /usr/local/lib/python3.10/dist-packages (from torch->efficientnet-pytorch) (2023.6.0)\n",
            "Requirement already satisfied: triton==2.1.0 in /usr/local/lib/python3.10/dist-packages (from torch->efficientnet-pytorch) (2.1.0)\n",
            "Requirement already satisfied: MarkupSafe>=2.0 in /usr/local/lib/python3.10/dist-packages (from jinja2->torch->efficientnet-pytorch) (2.1.3)\n",
            "Requirement already satisfied: mpmath>=0.19 in /usr/local/lib/python3.10/dist-packages (from sympy->torch->efficientnet-pytorch) (1.3.0)\n"
          ]
        }
      ],
      "source": [
        "!pip install efficientnet-pytorch\n",
        "from efficientnet_pytorch import EfficientNet"
      ]
    },
    {
      "cell_type": "code",
      "execution_count": null,
      "metadata": {
        "id": "OTJwFRd1rSxY"
      },
      "outputs": [],
      "source": [
        "# Define the EfficientnetB2 model without loading weights\n",
        "class EfficientnetB2(nn.Module):\n",
        "    def __init__(self, num_classes=10):\n",
        "        super().__init__()\n",
        "\n",
        "        # Declare the EfficientNet model without loading weights\n",
        "        self.model = EfficientNet.from_pretrained('efficientnet-b2', num_classes=num_classes)\n",
        "\n",
        "    def forward(self, x):\n",
        "        out = self.model(x)\n",
        "        return out"
      ]
    },
    {
      "cell_type": "code",
      "execution_count": null,
      "metadata": {
        "id": "myNH1JWDrS09",
        "colab": {
          "base_uri": "https://localhost:8080/"
        },
        "outputId": "c25013be-fbfd-4dbe-d013-a2802c2a5aff"
      },
      "outputs": [
        {
          "output_type": "stream",
          "name": "stderr",
          "text": [
            "Downloading: \"https://github.com/lukemelas/EfficientNet-PyTorch/releases/download/1.0/efficientnet-b2-8bb594d6.pth\" to /root/.cache/torch/hub/checkpoints/efficientnet-b2-8bb594d6.pth\n",
            "100%|██████████| 35.1M/35.1M [00:00<00:00, 74.1MB/s]\n"
          ]
        },
        {
          "output_type": "stream",
          "name": "stdout",
          "text": [
            "Loaded pretrained weights for efficientnet-b2\n"
          ]
        }
      ],
      "source": [
        "efficientnet_b2 = EfficientnetB2(num_classes=10)  # Specify the number of output classes\n",
        "efficientnet_b2.threshold = 0.33"
      ]
    },
    {
      "cell_type": "code",
      "execution_count": null,
      "metadata": {
        "id": "FY9ZZzA9I-IS",
        "colab": {
          "base_uri": "https://localhost:8080/"
        },
        "outputId": "567284ad-f471-486f-dde1-abdf23aac8e4"
      },
      "outputs": [
        {
          "output_type": "execute_result",
          "data": {
            "text/plain": [
              "<All keys matched successfully>"
            ]
          },
          "metadata": {},
          "execution_count": 30
        }
      ],
      "source": [
        "efficientnet_b2.load_state_dict(torch.load('/content/drive/MyDrive/CSV file of rice disease/efficientnet_b2 (3).pth'))\n"
      ]
    },
    {
      "cell_type": "code",
      "execution_count": null,
      "metadata": {
        "id": "RWIdV7YmrS83",
        "colab": {
          "base_uri": "https://localhost:8080/"
        },
        "outputId": "d8702382-6a96-46d2-a327-b858f8660b62"
      },
      "outputs": [
        {
          "output_type": "stream",
          "name": "stdout",
          "text": [
            "Requirement already satisfied: torchsummary in /usr/local/lib/python3.10/dist-packages (1.5.1)\n"
          ]
        }
      ],
      "source": [
        "!pip install torchsummary"
      ]
    },
    {
      "cell_type": "code",
      "execution_count": null,
      "metadata": {
        "id": "pG7jvqNMrTAP",
        "colab": {
          "base_uri": "https://localhost:8080/"
        },
        "outputId": "781ad5b5-469e-4e95-bb96-46711524b9db"
      },
      "outputs": [
        {
          "output_type": "stream",
          "name": "stdout",
          "text": [
            "----------------------------------------------------------------\n",
            "        Layer (type)               Output Shape         Param #\n",
            "================================================================\n",
            "         ZeroPad2d-1          [-1, 3, 225, 225]               0\n",
            "Conv2dStaticSamePadding-2         [-1, 32, 112, 112]             864\n",
            "       BatchNorm2d-3         [-1, 32, 112, 112]              64\n",
            "MemoryEfficientSwish-4         [-1, 32, 112, 112]               0\n",
            "         ZeroPad2d-5         [-1, 32, 114, 114]               0\n",
            "Conv2dStaticSamePadding-6         [-1, 32, 112, 112]             288\n",
            "       BatchNorm2d-7         [-1, 32, 112, 112]              64\n",
            "MemoryEfficientSwish-8         [-1, 32, 112, 112]               0\n",
            "          Identity-9             [-1, 32, 1, 1]               0\n",
            "Conv2dStaticSamePadding-10              [-1, 8, 1, 1]             264\n",
            "MemoryEfficientSwish-11              [-1, 8, 1, 1]               0\n",
            "         Identity-12              [-1, 8, 1, 1]               0\n",
            "Conv2dStaticSamePadding-13             [-1, 32, 1, 1]             288\n",
            "         Identity-14         [-1, 32, 112, 112]               0\n",
            "Conv2dStaticSamePadding-15         [-1, 16, 112, 112]             512\n",
            "      BatchNorm2d-16         [-1, 16, 112, 112]              32\n",
            "      MBConvBlock-17         [-1, 16, 112, 112]               0\n",
            "        ZeroPad2d-18         [-1, 16, 114, 114]               0\n",
            "Conv2dStaticSamePadding-19         [-1, 16, 112, 112]             144\n",
            "      BatchNorm2d-20         [-1, 16, 112, 112]              32\n",
            "MemoryEfficientSwish-21         [-1, 16, 112, 112]               0\n",
            "         Identity-22             [-1, 16, 1, 1]               0\n",
            "Conv2dStaticSamePadding-23              [-1, 4, 1, 1]              68\n",
            "MemoryEfficientSwish-24              [-1, 4, 1, 1]               0\n",
            "         Identity-25              [-1, 4, 1, 1]               0\n",
            "Conv2dStaticSamePadding-26             [-1, 16, 1, 1]              80\n",
            "         Identity-27         [-1, 16, 112, 112]               0\n",
            "Conv2dStaticSamePadding-28         [-1, 16, 112, 112]             256\n",
            "      BatchNorm2d-29         [-1, 16, 112, 112]              32\n",
            "      MBConvBlock-30         [-1, 16, 112, 112]               0\n",
            "         Identity-31         [-1, 16, 112, 112]               0\n",
            "Conv2dStaticSamePadding-32         [-1, 96, 112, 112]           1,536\n",
            "      BatchNorm2d-33         [-1, 96, 112, 112]             192\n",
            "MemoryEfficientSwish-34         [-1, 96, 112, 112]               0\n",
            "        ZeroPad2d-35         [-1, 96, 113, 113]               0\n",
            "Conv2dStaticSamePadding-36           [-1, 96, 56, 56]             864\n",
            "      BatchNorm2d-37           [-1, 96, 56, 56]             192\n",
            "MemoryEfficientSwish-38           [-1, 96, 56, 56]               0\n",
            "         Identity-39             [-1, 96, 1, 1]               0\n",
            "Conv2dStaticSamePadding-40              [-1, 4, 1, 1]             388\n",
            "MemoryEfficientSwish-41              [-1, 4, 1, 1]               0\n",
            "         Identity-42              [-1, 4, 1, 1]               0\n",
            "Conv2dStaticSamePadding-43             [-1, 96, 1, 1]             480\n",
            "         Identity-44           [-1, 96, 56, 56]               0\n",
            "Conv2dStaticSamePadding-45           [-1, 24, 56, 56]           2,304\n",
            "      BatchNorm2d-46           [-1, 24, 56, 56]              48\n",
            "      MBConvBlock-47           [-1, 24, 56, 56]               0\n",
            "         Identity-48           [-1, 24, 56, 56]               0\n",
            "Conv2dStaticSamePadding-49          [-1, 144, 56, 56]           3,456\n",
            "      BatchNorm2d-50          [-1, 144, 56, 56]             288\n",
            "MemoryEfficientSwish-51          [-1, 144, 56, 56]               0\n",
            "        ZeroPad2d-52          [-1, 144, 58, 58]               0\n",
            "Conv2dStaticSamePadding-53          [-1, 144, 56, 56]           1,296\n",
            "      BatchNorm2d-54          [-1, 144, 56, 56]             288\n",
            "MemoryEfficientSwish-55          [-1, 144, 56, 56]               0\n",
            "         Identity-56            [-1, 144, 1, 1]               0\n",
            "Conv2dStaticSamePadding-57              [-1, 6, 1, 1]             870\n",
            "MemoryEfficientSwish-58              [-1, 6, 1, 1]               0\n",
            "         Identity-59              [-1, 6, 1, 1]               0\n",
            "Conv2dStaticSamePadding-60            [-1, 144, 1, 1]           1,008\n",
            "         Identity-61          [-1, 144, 56, 56]               0\n",
            "Conv2dStaticSamePadding-62           [-1, 24, 56, 56]           3,456\n",
            "      BatchNorm2d-63           [-1, 24, 56, 56]              48\n",
            "      MBConvBlock-64           [-1, 24, 56, 56]               0\n",
            "         Identity-65           [-1, 24, 56, 56]               0\n",
            "Conv2dStaticSamePadding-66          [-1, 144, 56, 56]           3,456\n",
            "      BatchNorm2d-67          [-1, 144, 56, 56]             288\n",
            "MemoryEfficientSwish-68          [-1, 144, 56, 56]               0\n",
            "        ZeroPad2d-69          [-1, 144, 58, 58]               0\n",
            "Conv2dStaticSamePadding-70          [-1, 144, 56, 56]           1,296\n",
            "      BatchNorm2d-71          [-1, 144, 56, 56]             288\n",
            "MemoryEfficientSwish-72          [-1, 144, 56, 56]               0\n",
            "         Identity-73            [-1, 144, 1, 1]               0\n",
            "Conv2dStaticSamePadding-74              [-1, 6, 1, 1]             870\n",
            "MemoryEfficientSwish-75              [-1, 6, 1, 1]               0\n",
            "         Identity-76              [-1, 6, 1, 1]               0\n",
            "Conv2dStaticSamePadding-77            [-1, 144, 1, 1]           1,008\n",
            "         Identity-78          [-1, 144, 56, 56]               0\n",
            "Conv2dStaticSamePadding-79           [-1, 24, 56, 56]           3,456\n",
            "      BatchNorm2d-80           [-1, 24, 56, 56]              48\n",
            "      MBConvBlock-81           [-1, 24, 56, 56]               0\n",
            "         Identity-82           [-1, 24, 56, 56]               0\n",
            "Conv2dStaticSamePadding-83          [-1, 144, 56, 56]           3,456\n",
            "      BatchNorm2d-84          [-1, 144, 56, 56]             288\n",
            "MemoryEfficientSwish-85          [-1, 144, 56, 56]               0\n",
            "        ZeroPad2d-86          [-1, 144, 60, 60]               0\n",
            "Conv2dStaticSamePadding-87          [-1, 144, 28, 28]           3,600\n",
            "      BatchNorm2d-88          [-1, 144, 28, 28]             288\n",
            "MemoryEfficientSwish-89          [-1, 144, 28, 28]               0\n",
            "         Identity-90            [-1, 144, 1, 1]               0\n",
            "Conv2dStaticSamePadding-91              [-1, 6, 1, 1]             870\n",
            "MemoryEfficientSwish-92              [-1, 6, 1, 1]               0\n",
            "         Identity-93              [-1, 6, 1, 1]               0\n",
            "Conv2dStaticSamePadding-94            [-1, 144, 1, 1]           1,008\n",
            "         Identity-95          [-1, 144, 28, 28]               0\n",
            "Conv2dStaticSamePadding-96           [-1, 48, 28, 28]           6,912\n",
            "      BatchNorm2d-97           [-1, 48, 28, 28]              96\n",
            "      MBConvBlock-98           [-1, 48, 28, 28]               0\n",
            "         Identity-99           [-1, 48, 28, 28]               0\n",
            "Conv2dStaticSamePadding-100          [-1, 288, 28, 28]          13,824\n",
            "     BatchNorm2d-101          [-1, 288, 28, 28]             576\n",
            "MemoryEfficientSwish-102          [-1, 288, 28, 28]               0\n",
            "       ZeroPad2d-103          [-1, 288, 32, 32]               0\n",
            "Conv2dStaticSamePadding-104          [-1, 288, 28, 28]           7,200\n",
            "     BatchNorm2d-105          [-1, 288, 28, 28]             576\n",
            "MemoryEfficientSwish-106          [-1, 288, 28, 28]               0\n",
            "        Identity-107            [-1, 288, 1, 1]               0\n",
            "Conv2dStaticSamePadding-108             [-1, 12, 1, 1]           3,468\n",
            "MemoryEfficientSwish-109             [-1, 12, 1, 1]               0\n",
            "        Identity-110             [-1, 12, 1, 1]               0\n",
            "Conv2dStaticSamePadding-111            [-1, 288, 1, 1]           3,744\n",
            "        Identity-112          [-1, 288, 28, 28]               0\n",
            "Conv2dStaticSamePadding-113           [-1, 48, 28, 28]          13,824\n",
            "     BatchNorm2d-114           [-1, 48, 28, 28]              96\n",
            "     MBConvBlock-115           [-1, 48, 28, 28]               0\n",
            "        Identity-116           [-1, 48, 28, 28]               0\n",
            "Conv2dStaticSamePadding-117          [-1, 288, 28, 28]          13,824\n",
            "     BatchNorm2d-118          [-1, 288, 28, 28]             576\n",
            "MemoryEfficientSwish-119          [-1, 288, 28, 28]               0\n",
            "       ZeroPad2d-120          [-1, 288, 32, 32]               0\n",
            "Conv2dStaticSamePadding-121          [-1, 288, 28, 28]           7,200\n",
            "     BatchNorm2d-122          [-1, 288, 28, 28]             576\n",
            "MemoryEfficientSwish-123          [-1, 288, 28, 28]               0\n",
            "        Identity-124            [-1, 288, 1, 1]               0\n",
            "Conv2dStaticSamePadding-125             [-1, 12, 1, 1]           3,468\n",
            "MemoryEfficientSwish-126             [-1, 12, 1, 1]               0\n",
            "        Identity-127             [-1, 12, 1, 1]               0\n",
            "Conv2dStaticSamePadding-128            [-1, 288, 1, 1]           3,744\n",
            "        Identity-129          [-1, 288, 28, 28]               0\n",
            "Conv2dStaticSamePadding-130           [-1, 48, 28, 28]          13,824\n",
            "     BatchNorm2d-131           [-1, 48, 28, 28]              96\n",
            "     MBConvBlock-132           [-1, 48, 28, 28]               0\n",
            "        Identity-133           [-1, 48, 28, 28]               0\n",
            "Conv2dStaticSamePadding-134          [-1, 288, 28, 28]          13,824\n",
            "     BatchNorm2d-135          [-1, 288, 28, 28]             576\n",
            "MemoryEfficientSwish-136          [-1, 288, 28, 28]               0\n",
            "       ZeroPad2d-137          [-1, 288, 30, 30]               0\n",
            "Conv2dStaticSamePadding-138          [-1, 288, 14, 14]           2,592\n",
            "     BatchNorm2d-139          [-1, 288, 14, 14]             576\n",
            "MemoryEfficientSwish-140          [-1, 288, 14, 14]               0\n",
            "        Identity-141            [-1, 288, 1, 1]               0\n",
            "Conv2dStaticSamePadding-142             [-1, 12, 1, 1]           3,468\n",
            "MemoryEfficientSwish-143             [-1, 12, 1, 1]               0\n",
            "        Identity-144             [-1, 12, 1, 1]               0\n",
            "Conv2dStaticSamePadding-145            [-1, 288, 1, 1]           3,744\n",
            "        Identity-146          [-1, 288, 14, 14]               0\n",
            "Conv2dStaticSamePadding-147           [-1, 88, 14, 14]          25,344\n",
            "     BatchNorm2d-148           [-1, 88, 14, 14]             176\n",
            "     MBConvBlock-149           [-1, 88, 14, 14]               0\n",
            "        Identity-150           [-1, 88, 14, 14]               0\n",
            "Conv2dStaticSamePadding-151          [-1, 528, 14, 14]          46,464\n",
            "     BatchNorm2d-152          [-1, 528, 14, 14]           1,056\n",
            "MemoryEfficientSwish-153          [-1, 528, 14, 14]               0\n",
            "       ZeroPad2d-154          [-1, 528, 16, 16]               0\n",
            "Conv2dStaticSamePadding-155          [-1, 528, 14, 14]           4,752\n",
            "     BatchNorm2d-156          [-1, 528, 14, 14]           1,056\n",
            "MemoryEfficientSwish-157          [-1, 528, 14, 14]               0\n",
            "        Identity-158            [-1, 528, 1, 1]               0\n",
            "Conv2dStaticSamePadding-159             [-1, 22, 1, 1]          11,638\n",
            "MemoryEfficientSwish-160             [-1, 22, 1, 1]               0\n",
            "        Identity-161             [-1, 22, 1, 1]               0\n",
            "Conv2dStaticSamePadding-162            [-1, 528, 1, 1]          12,144\n",
            "        Identity-163          [-1, 528, 14, 14]               0\n",
            "Conv2dStaticSamePadding-164           [-1, 88, 14, 14]          46,464\n",
            "     BatchNorm2d-165           [-1, 88, 14, 14]             176\n",
            "     MBConvBlock-166           [-1, 88, 14, 14]               0\n",
            "        Identity-167           [-1, 88, 14, 14]               0\n",
            "Conv2dStaticSamePadding-168          [-1, 528, 14, 14]          46,464\n",
            "     BatchNorm2d-169          [-1, 528, 14, 14]           1,056\n",
            "MemoryEfficientSwish-170          [-1, 528, 14, 14]               0\n",
            "       ZeroPad2d-171          [-1, 528, 16, 16]               0\n",
            "Conv2dStaticSamePadding-172          [-1, 528, 14, 14]           4,752\n",
            "     BatchNorm2d-173          [-1, 528, 14, 14]           1,056\n",
            "MemoryEfficientSwish-174          [-1, 528, 14, 14]               0\n",
            "        Identity-175            [-1, 528, 1, 1]               0\n",
            "Conv2dStaticSamePadding-176             [-1, 22, 1, 1]          11,638\n",
            "MemoryEfficientSwish-177             [-1, 22, 1, 1]               0\n",
            "        Identity-178             [-1, 22, 1, 1]               0\n",
            "Conv2dStaticSamePadding-179            [-1, 528, 1, 1]          12,144\n",
            "        Identity-180          [-1, 528, 14, 14]               0\n",
            "Conv2dStaticSamePadding-181           [-1, 88, 14, 14]          46,464\n",
            "     BatchNorm2d-182           [-1, 88, 14, 14]             176\n",
            "     MBConvBlock-183           [-1, 88, 14, 14]               0\n",
            "        Identity-184           [-1, 88, 14, 14]               0\n",
            "Conv2dStaticSamePadding-185          [-1, 528, 14, 14]          46,464\n",
            "     BatchNorm2d-186          [-1, 528, 14, 14]           1,056\n",
            "MemoryEfficientSwish-187          [-1, 528, 14, 14]               0\n",
            "       ZeroPad2d-188          [-1, 528, 16, 16]               0\n",
            "Conv2dStaticSamePadding-189          [-1, 528, 14, 14]           4,752\n",
            "     BatchNorm2d-190          [-1, 528, 14, 14]           1,056\n",
            "MemoryEfficientSwish-191          [-1, 528, 14, 14]               0\n",
            "        Identity-192            [-1, 528, 1, 1]               0\n",
            "Conv2dStaticSamePadding-193             [-1, 22, 1, 1]          11,638\n",
            "MemoryEfficientSwish-194             [-1, 22, 1, 1]               0\n",
            "        Identity-195             [-1, 22, 1, 1]               0\n",
            "Conv2dStaticSamePadding-196            [-1, 528, 1, 1]          12,144\n",
            "        Identity-197          [-1, 528, 14, 14]               0\n",
            "Conv2dStaticSamePadding-198           [-1, 88, 14, 14]          46,464\n",
            "     BatchNorm2d-199           [-1, 88, 14, 14]             176\n",
            "     MBConvBlock-200           [-1, 88, 14, 14]               0\n",
            "        Identity-201           [-1, 88, 14, 14]               0\n",
            "Conv2dStaticSamePadding-202          [-1, 528, 14, 14]          46,464\n",
            "     BatchNorm2d-203          [-1, 528, 14, 14]           1,056\n",
            "MemoryEfficientSwish-204          [-1, 528, 14, 14]               0\n",
            "       ZeroPad2d-205          [-1, 528, 18, 18]               0\n",
            "Conv2dStaticSamePadding-206          [-1, 528, 14, 14]          13,200\n",
            "     BatchNorm2d-207          [-1, 528, 14, 14]           1,056\n",
            "MemoryEfficientSwish-208          [-1, 528, 14, 14]               0\n",
            "        Identity-209            [-1, 528, 1, 1]               0\n",
            "Conv2dStaticSamePadding-210             [-1, 22, 1, 1]          11,638\n",
            "MemoryEfficientSwish-211             [-1, 22, 1, 1]               0\n",
            "        Identity-212             [-1, 22, 1, 1]               0\n",
            "Conv2dStaticSamePadding-213            [-1, 528, 1, 1]          12,144\n",
            "        Identity-214          [-1, 528, 14, 14]               0\n",
            "Conv2dStaticSamePadding-215          [-1, 120, 14, 14]          63,360\n",
            "     BatchNorm2d-216          [-1, 120, 14, 14]             240\n",
            "     MBConvBlock-217          [-1, 120, 14, 14]               0\n",
            "        Identity-218          [-1, 120, 14, 14]               0\n",
            "Conv2dStaticSamePadding-219          [-1, 720, 14, 14]          86,400\n",
            "     BatchNorm2d-220          [-1, 720, 14, 14]           1,440\n",
            "MemoryEfficientSwish-221          [-1, 720, 14, 14]               0\n",
            "       ZeroPad2d-222          [-1, 720, 18, 18]               0\n",
            "Conv2dStaticSamePadding-223          [-1, 720, 14, 14]          18,000\n",
            "     BatchNorm2d-224          [-1, 720, 14, 14]           1,440\n",
            "MemoryEfficientSwish-225          [-1, 720, 14, 14]               0\n",
            "        Identity-226            [-1, 720, 1, 1]               0\n",
            "Conv2dStaticSamePadding-227             [-1, 30, 1, 1]          21,630\n",
            "MemoryEfficientSwish-228             [-1, 30, 1, 1]               0\n",
            "        Identity-229             [-1, 30, 1, 1]               0\n",
            "Conv2dStaticSamePadding-230            [-1, 720, 1, 1]          22,320\n",
            "        Identity-231          [-1, 720, 14, 14]               0\n",
            "Conv2dStaticSamePadding-232          [-1, 120, 14, 14]          86,400\n",
            "     BatchNorm2d-233          [-1, 120, 14, 14]             240\n",
            "     MBConvBlock-234          [-1, 120, 14, 14]               0\n",
            "        Identity-235          [-1, 120, 14, 14]               0\n",
            "Conv2dStaticSamePadding-236          [-1, 720, 14, 14]          86,400\n",
            "     BatchNorm2d-237          [-1, 720, 14, 14]           1,440\n",
            "MemoryEfficientSwish-238          [-1, 720, 14, 14]               0\n",
            "       ZeroPad2d-239          [-1, 720, 18, 18]               0\n",
            "Conv2dStaticSamePadding-240          [-1, 720, 14, 14]          18,000\n",
            "     BatchNorm2d-241          [-1, 720, 14, 14]           1,440\n",
            "MemoryEfficientSwish-242          [-1, 720, 14, 14]               0\n",
            "        Identity-243            [-1, 720, 1, 1]               0\n",
            "Conv2dStaticSamePadding-244             [-1, 30, 1, 1]          21,630\n",
            "MemoryEfficientSwish-245             [-1, 30, 1, 1]               0\n",
            "        Identity-246             [-1, 30, 1, 1]               0\n",
            "Conv2dStaticSamePadding-247            [-1, 720, 1, 1]          22,320\n",
            "        Identity-248          [-1, 720, 14, 14]               0\n",
            "Conv2dStaticSamePadding-249          [-1, 120, 14, 14]          86,400\n",
            "     BatchNorm2d-250          [-1, 120, 14, 14]             240\n",
            "     MBConvBlock-251          [-1, 120, 14, 14]               0\n",
            "        Identity-252          [-1, 120, 14, 14]               0\n",
            "Conv2dStaticSamePadding-253          [-1, 720, 14, 14]          86,400\n",
            "     BatchNorm2d-254          [-1, 720, 14, 14]           1,440\n",
            "MemoryEfficientSwish-255          [-1, 720, 14, 14]               0\n",
            "       ZeroPad2d-256          [-1, 720, 18, 18]               0\n",
            "Conv2dStaticSamePadding-257          [-1, 720, 14, 14]          18,000\n",
            "     BatchNorm2d-258          [-1, 720, 14, 14]           1,440\n",
            "MemoryEfficientSwish-259          [-1, 720, 14, 14]               0\n",
            "        Identity-260            [-1, 720, 1, 1]               0\n",
            "Conv2dStaticSamePadding-261             [-1, 30, 1, 1]          21,630\n",
            "MemoryEfficientSwish-262             [-1, 30, 1, 1]               0\n",
            "        Identity-263             [-1, 30, 1, 1]               0\n",
            "Conv2dStaticSamePadding-264            [-1, 720, 1, 1]          22,320\n",
            "        Identity-265          [-1, 720, 14, 14]               0\n",
            "Conv2dStaticSamePadding-266          [-1, 120, 14, 14]          86,400\n",
            "     BatchNorm2d-267          [-1, 120, 14, 14]             240\n",
            "     MBConvBlock-268          [-1, 120, 14, 14]               0\n",
            "        Identity-269          [-1, 120, 14, 14]               0\n",
            "Conv2dStaticSamePadding-270          [-1, 720, 14, 14]          86,400\n",
            "     BatchNorm2d-271          [-1, 720, 14, 14]           1,440\n",
            "MemoryEfficientSwish-272          [-1, 720, 14, 14]               0\n",
            "       ZeroPad2d-273          [-1, 720, 18, 18]               0\n",
            "Conv2dStaticSamePadding-274            [-1, 720, 7, 7]          18,000\n",
            "     BatchNorm2d-275            [-1, 720, 7, 7]           1,440\n",
            "MemoryEfficientSwish-276            [-1, 720, 7, 7]               0\n",
            "        Identity-277            [-1, 720, 1, 1]               0\n",
            "Conv2dStaticSamePadding-278             [-1, 30, 1, 1]          21,630\n",
            "MemoryEfficientSwish-279             [-1, 30, 1, 1]               0\n",
            "        Identity-280             [-1, 30, 1, 1]               0\n",
            "Conv2dStaticSamePadding-281            [-1, 720, 1, 1]          22,320\n",
            "        Identity-282            [-1, 720, 7, 7]               0\n",
            "Conv2dStaticSamePadding-283            [-1, 208, 7, 7]         149,760\n",
            "     BatchNorm2d-284            [-1, 208, 7, 7]             416\n",
            "     MBConvBlock-285            [-1, 208, 7, 7]               0\n",
            "        Identity-286            [-1, 208, 7, 7]               0\n",
            "Conv2dStaticSamePadding-287           [-1, 1248, 7, 7]         259,584\n",
            "     BatchNorm2d-288           [-1, 1248, 7, 7]           2,496\n",
            "MemoryEfficientSwish-289           [-1, 1248, 7, 7]               0\n",
            "       ZeroPad2d-290         [-1, 1248, 11, 11]               0\n",
            "Conv2dStaticSamePadding-291           [-1, 1248, 7, 7]          31,200\n",
            "     BatchNorm2d-292           [-1, 1248, 7, 7]           2,496\n",
            "MemoryEfficientSwish-293           [-1, 1248, 7, 7]               0\n",
            "        Identity-294           [-1, 1248, 1, 1]               0\n",
            "Conv2dStaticSamePadding-295             [-1, 52, 1, 1]          64,948\n",
            "MemoryEfficientSwish-296             [-1, 52, 1, 1]               0\n",
            "        Identity-297             [-1, 52, 1, 1]               0\n",
            "Conv2dStaticSamePadding-298           [-1, 1248, 1, 1]          66,144\n",
            "        Identity-299           [-1, 1248, 7, 7]               0\n",
            "Conv2dStaticSamePadding-300            [-1, 208, 7, 7]         259,584\n",
            "     BatchNorm2d-301            [-1, 208, 7, 7]             416\n",
            "     MBConvBlock-302            [-1, 208, 7, 7]               0\n",
            "        Identity-303            [-1, 208, 7, 7]               0\n",
            "Conv2dStaticSamePadding-304           [-1, 1248, 7, 7]         259,584\n",
            "     BatchNorm2d-305           [-1, 1248, 7, 7]           2,496\n",
            "MemoryEfficientSwish-306           [-1, 1248, 7, 7]               0\n",
            "       ZeroPad2d-307         [-1, 1248, 11, 11]               0\n",
            "Conv2dStaticSamePadding-308           [-1, 1248, 7, 7]          31,200\n",
            "     BatchNorm2d-309           [-1, 1248, 7, 7]           2,496\n",
            "MemoryEfficientSwish-310           [-1, 1248, 7, 7]               0\n",
            "        Identity-311           [-1, 1248, 1, 1]               0\n",
            "Conv2dStaticSamePadding-312             [-1, 52, 1, 1]          64,948\n",
            "MemoryEfficientSwish-313             [-1, 52, 1, 1]               0\n",
            "        Identity-314             [-1, 52, 1, 1]               0\n",
            "Conv2dStaticSamePadding-315           [-1, 1248, 1, 1]          66,144\n",
            "        Identity-316           [-1, 1248, 7, 7]               0\n",
            "Conv2dStaticSamePadding-317            [-1, 208, 7, 7]         259,584\n",
            "     BatchNorm2d-318            [-1, 208, 7, 7]             416\n",
            "     MBConvBlock-319            [-1, 208, 7, 7]               0\n",
            "        Identity-320            [-1, 208, 7, 7]               0\n",
            "Conv2dStaticSamePadding-321           [-1, 1248, 7, 7]         259,584\n",
            "     BatchNorm2d-322           [-1, 1248, 7, 7]           2,496\n",
            "MemoryEfficientSwish-323           [-1, 1248, 7, 7]               0\n",
            "       ZeroPad2d-324         [-1, 1248, 11, 11]               0\n",
            "Conv2dStaticSamePadding-325           [-1, 1248, 7, 7]          31,200\n",
            "     BatchNorm2d-326           [-1, 1248, 7, 7]           2,496\n",
            "MemoryEfficientSwish-327           [-1, 1248, 7, 7]               0\n",
            "        Identity-328           [-1, 1248, 1, 1]               0\n",
            "Conv2dStaticSamePadding-329             [-1, 52, 1, 1]          64,948\n",
            "MemoryEfficientSwish-330             [-1, 52, 1, 1]               0\n",
            "        Identity-331             [-1, 52, 1, 1]               0\n",
            "Conv2dStaticSamePadding-332           [-1, 1248, 1, 1]          66,144\n",
            "        Identity-333           [-1, 1248, 7, 7]               0\n",
            "Conv2dStaticSamePadding-334            [-1, 208, 7, 7]         259,584\n",
            "     BatchNorm2d-335            [-1, 208, 7, 7]             416\n",
            "     MBConvBlock-336            [-1, 208, 7, 7]               0\n",
            "        Identity-337            [-1, 208, 7, 7]               0\n",
            "Conv2dStaticSamePadding-338           [-1, 1248, 7, 7]         259,584\n",
            "     BatchNorm2d-339           [-1, 1248, 7, 7]           2,496\n",
            "MemoryEfficientSwish-340           [-1, 1248, 7, 7]               0\n",
            "       ZeroPad2d-341         [-1, 1248, 11, 11]               0\n",
            "Conv2dStaticSamePadding-342           [-1, 1248, 7, 7]          31,200\n",
            "     BatchNorm2d-343           [-1, 1248, 7, 7]           2,496\n",
            "MemoryEfficientSwish-344           [-1, 1248, 7, 7]               0\n",
            "        Identity-345           [-1, 1248, 1, 1]               0\n",
            "Conv2dStaticSamePadding-346             [-1, 52, 1, 1]          64,948\n",
            "MemoryEfficientSwish-347             [-1, 52, 1, 1]               0\n",
            "        Identity-348             [-1, 52, 1, 1]               0\n",
            "Conv2dStaticSamePadding-349           [-1, 1248, 1, 1]          66,144\n",
            "        Identity-350           [-1, 1248, 7, 7]               0\n",
            "Conv2dStaticSamePadding-351            [-1, 208, 7, 7]         259,584\n",
            "     BatchNorm2d-352            [-1, 208, 7, 7]             416\n",
            "     MBConvBlock-353            [-1, 208, 7, 7]               0\n",
            "        Identity-354            [-1, 208, 7, 7]               0\n",
            "Conv2dStaticSamePadding-355           [-1, 1248, 7, 7]         259,584\n",
            "     BatchNorm2d-356           [-1, 1248, 7, 7]           2,496\n",
            "MemoryEfficientSwish-357           [-1, 1248, 7, 7]               0\n",
            "       ZeroPad2d-358           [-1, 1248, 9, 9]               0\n",
            "Conv2dStaticSamePadding-359           [-1, 1248, 7, 7]          11,232\n",
            "     BatchNorm2d-360           [-1, 1248, 7, 7]           2,496\n",
            "MemoryEfficientSwish-361           [-1, 1248, 7, 7]               0\n",
            "        Identity-362           [-1, 1248, 1, 1]               0\n",
            "Conv2dStaticSamePadding-363             [-1, 52, 1, 1]          64,948\n",
            "MemoryEfficientSwish-364             [-1, 52, 1, 1]               0\n",
            "        Identity-365             [-1, 52, 1, 1]               0\n",
            "Conv2dStaticSamePadding-366           [-1, 1248, 1, 1]          66,144\n",
            "        Identity-367           [-1, 1248, 7, 7]               0\n",
            "Conv2dStaticSamePadding-368            [-1, 352, 7, 7]         439,296\n",
            "     BatchNorm2d-369            [-1, 352, 7, 7]             704\n",
            "     MBConvBlock-370            [-1, 352, 7, 7]               0\n",
            "        Identity-371            [-1, 352, 7, 7]               0\n",
            "Conv2dStaticSamePadding-372           [-1, 2112, 7, 7]         743,424\n",
            "     BatchNorm2d-373           [-1, 2112, 7, 7]           4,224\n",
            "MemoryEfficientSwish-374           [-1, 2112, 7, 7]               0\n",
            "       ZeroPad2d-375           [-1, 2112, 9, 9]               0\n",
            "Conv2dStaticSamePadding-376           [-1, 2112, 7, 7]          19,008\n",
            "     BatchNorm2d-377           [-1, 2112, 7, 7]           4,224\n",
            "MemoryEfficientSwish-378           [-1, 2112, 7, 7]               0\n",
            "        Identity-379           [-1, 2112, 1, 1]               0\n",
            "Conv2dStaticSamePadding-380             [-1, 88, 1, 1]         185,944\n",
            "MemoryEfficientSwish-381             [-1, 88, 1, 1]               0\n",
            "        Identity-382             [-1, 88, 1, 1]               0\n",
            "Conv2dStaticSamePadding-383           [-1, 2112, 1, 1]         187,968\n",
            "        Identity-384           [-1, 2112, 7, 7]               0\n",
            "Conv2dStaticSamePadding-385            [-1, 352, 7, 7]         743,424\n",
            "     BatchNorm2d-386            [-1, 352, 7, 7]             704\n",
            "     MBConvBlock-387            [-1, 352, 7, 7]               0\n",
            "        Identity-388            [-1, 352, 7, 7]               0\n",
            "Conv2dStaticSamePadding-389           [-1, 1408, 7, 7]         495,616\n",
            "     BatchNorm2d-390           [-1, 1408, 7, 7]           2,816\n",
            "MemoryEfficientSwish-391           [-1, 1408, 7, 7]               0\n",
            "AdaptiveAvgPool2d-392           [-1, 1408, 1, 1]               0\n",
            "         Dropout-393                 [-1, 1408]               0\n",
            "          Linear-394                   [-1, 10]          14,090\n",
            "    EfficientNet-395                   [-1, 10]               0\n",
            "================================================================\n",
            "Total params: 7,715,084\n",
            "Trainable params: 7,715,084\n",
            "Non-trainable params: 0\n",
            "----------------------------------------------------------------\n",
            "Input size (MB): 0.57\n",
            "Forward/backward pass size (MB): 309.99\n",
            "Params size (MB): 29.43\n",
            "Estimated Total Size (MB): 340.00\n",
            "----------------------------------------------------------------\n"
          ]
        }
      ],
      "source": [
        "from torchsummary import summary\n",
        "\n",
        "# Assuming you have already declared the 'efficientnet_b2' model\n",
        "efficientnet_b2.to('cuda')  # Move the model to CUDA if available\n",
        "\n",
        "# Display the summary of the model\n",
        "summary(efficientnet_b2, (3, 224, 224))"
      ]
    },
    {
      "cell_type": "code",
      "execution_count": null,
      "metadata": {
        "id": "QpAXj4PkrTD3"
      },
      "outputs": [],
      "source": [
        "import gc\n",
        "gc.collect()\n",
        "torch.cuda.empty_cache()"
      ]
    },
    {
      "cell_type": "code",
      "execution_count": null,
      "metadata": {
        "id": "ofdN7IZcyB7l",
        "colab": {
          "base_uri": "https://localhost:8080/"
        },
        "outputId": "be3d6bf9-af73-4a4d-92a8-c9434376aecf"
      },
      "outputs": [
        {
          "output_type": "stream",
          "name": "stdout",
          "text": [
            "Requirement already satisfied: torchbearer in /usr/local/lib/python3.10/dist-packages (0.5.3)\n",
            "Requirement already satisfied: torch>=1.0.0 in /usr/local/lib/python3.10/dist-packages (from torchbearer) (2.1.0+cu118)\n",
            "Requirement already satisfied: numpy in /usr/local/lib/python3.10/dist-packages (from torchbearer) (1.23.5)\n",
            "Requirement already satisfied: tqdm in /usr/local/lib/python3.10/dist-packages (from torchbearer) (4.66.1)\n",
            "Requirement already satisfied: filelock in /usr/local/lib/python3.10/dist-packages (from torch>=1.0.0->torchbearer) (3.13.1)\n",
            "Requirement already satisfied: typing-extensions in /usr/local/lib/python3.10/dist-packages (from torch>=1.0.0->torchbearer) (4.5.0)\n",
            "Requirement already satisfied: sympy in /usr/local/lib/python3.10/dist-packages (from torch>=1.0.0->torchbearer) (1.12)\n",
            "Requirement already satisfied: networkx in /usr/local/lib/python3.10/dist-packages (from torch>=1.0.0->torchbearer) (3.2.1)\n",
            "Requirement already satisfied: jinja2 in /usr/local/lib/python3.10/dist-packages (from torch>=1.0.0->torchbearer) (3.1.2)\n",
            "Requirement already satisfied: fsspec in /usr/local/lib/python3.10/dist-packages (from torch>=1.0.0->torchbearer) (2023.6.0)\n",
            "Requirement already satisfied: triton==2.1.0 in /usr/local/lib/python3.10/dist-packages (from torch>=1.0.0->torchbearer) (2.1.0)\n",
            "Requirement already satisfied: MarkupSafe>=2.0 in /usr/local/lib/python3.10/dist-packages (from jinja2->torch>=1.0.0->torchbearer) (2.1.3)\n",
            "Requirement already satisfied: mpmath>=0.19 in /usr/local/lib/python3.10/dist-packages (from sympy->torch>=1.0.0->torchbearer) (1.3.0)\n"
          ]
        }
      ],
      "source": [
        "!pip install torchbearer"
      ]
    },
    {
      "cell_type": "code",
      "execution_count": null,
      "metadata": {
        "id": "Q90bavxFx-d4"
      },
      "outputs": [],
      "source": [
        "from torchbearer import Trial"
      ]
    },
    {
      "cell_type": "code",
      "execution_count": null,
      "metadata": {
        "id": "2OUCHPDiLXIP"
      },
      "outputs": [],
      "source": [
        "save=torchbearer.callbacks.checkpointers.Best(filepath='efficientnet_b2_0.33_2.pth', monitor='val_loss', mode='auto')\n",
        "#save=save_model(efficientnet_b2,'efficientnet_b2_0.33_2.pth')\n",
        "callbacks.append(save)"
      ]
    },
    {
      "cell_type": "code",
      "execution_count": 42,
      "metadata": {
        "id": "rih9-5m98B_2",
        "colab": {
          "base_uri": "https://localhost:8080/",
          "height": 81,
          "referenced_widgets": [
            "5410aea0d8174c779af4244cf806cd4a",
            "c6e8525d5ba94d45957330a14640dc93",
            "a9f73d3d581d4ecc88b18edeadf946a7",
            "5de448c9c96c4a6b8ddb2fe9da5b05e6",
            "0470fb51d83644bf8530ab320bb814d9",
            "071ca3c2246a45aeba8f88109a6c60b7",
            "745774d6503a4f07b6275e4b3540b436",
            "453586dcb8634f5f8f99ce94d3b519ec",
            "4f7ee06d8b804958a9cfe7beeb5e1dfd",
            "3147abbc64b047e7997dc19b64a4b7dd",
            "5dbd2b65d12849829597d31f967e502f",
            "8c8bf83cc44c46a2a94adadefff8fd76",
            "1fc9e209ae6744938614c94bcade65bd",
            "6cbe4bf3d1ea4d60806779b1b2ae15f3",
            "af0ad75680144881abdf445f0636e955",
            "a2a13c0431154b1fb8ea73ea336427ad",
            "474317cf26a8465eac6f804e9fcae826",
            "0db3624df6244a62babe2b3ff44b9a4b",
            "24007e2df3de4d0d9e10cd360769e677",
            "c1482dd99f6644f68bd44bfac22a1e3a",
            "8574f60b942643689d06f14bd9f9284f",
            "18055a8b46a747e3afdb26e095b6c00f"
          ]
        },
        "outputId": "daa679b9-8d75-4840-e986-0d7c4ba3995c"
      },
      "outputs": [
        {
          "output_type": "display_data",
          "data": {
            "text/plain": [
              "0/1(t):   0%|          | 0/310 [00:00<?, ?it/s]"
            ],
            "application/vnd.jupyter.widget-view+json": {
              "version_major": 2,
              "version_minor": 0,
              "model_id": "5410aea0d8174c779af4244cf806cd4a"
            }
          },
          "metadata": {}
        },
        {
          "output_type": "display_data",
          "data": {
            "text/plain": [
              "0/1(v):   0%|          | 0/17 [00:00<?, ?it/s]"
            ],
            "application/vnd.jupyter.widget-view+json": {
              "version_major": 2,
              "version_minor": 0,
              "model_id": "8c8bf83cc44c46a2a94adadefff8fd76"
            }
          },
          "metadata": {}
        }
      ],
      "source": [
        "\n",
        "#Uncomment if you want to\n",
        "#efficientnetb2_vit.to('cuda')\n",
        "efficientnet_b2.train()\n",
        "\n",
        "loss = torch.nn.CrossEntropyLoss()\n",
        "optimizer = torch.optim.Adam(efficientnet_b2.parameters(), lr=3e-10)\n",
        "trial = Trial(efficientnet_b2, optimizer,loss, metrics=['acc', 'loss']).to(device)\n",
        "trial.with_generators(train_generator=train_dataloader, val_generator=test_dataloader)\n",
        "history = trial.run(epochs=1, verbose=2)\n",
        "#history=trainer(efficientnetb2_vit,6,5e-4)"
      ]
    },
    {
      "cell_type": "code",
      "execution_count": 43,
      "metadata": {
        "id": "r7v7neYnNOvH"
      },
      "outputs": [],
      "source": [
        "torch.save(efficientnet_b2.state_dict(), 'efficientnet_b2.pth')"
      ]
    }
  ],
  "metadata": {
    "accelerator": "GPU",
    "colab": {
      "provenance": [],
      "gpuType": "T4"
    },
    "kernelspec": {
      "display_name": "Python 3",
      "name": "python3"
    },
    "language_info": {
      "name": "python"
    },
    "widgets": {
      "application/vnd.jupyter.widget-state+json": {
        "5410aea0d8174c779af4244cf806cd4a": {
          "model_module": "@jupyter-widgets/controls",
          "model_name": "HBoxModel",
          "model_module_version": "1.5.0",
          "state": {
            "_dom_classes": [],
            "_model_module": "@jupyter-widgets/controls",
            "_model_module_version": "1.5.0",
            "_model_name": "HBoxModel",
            "_view_count": null,
            "_view_module": "@jupyter-widgets/controls",
            "_view_module_version": "1.5.0",
            "_view_name": "HBoxView",
            "box_style": "",
            "children": [
              "IPY_MODEL_c6e8525d5ba94d45957330a14640dc93",
              "IPY_MODEL_a9f73d3d581d4ecc88b18edeadf946a7",
              "IPY_MODEL_5de448c9c96c4a6b8ddb2fe9da5b05e6"
            ],
            "layout": "IPY_MODEL_0470fb51d83644bf8530ab320bb814d9"
          }
        },
        "c6e8525d5ba94d45957330a14640dc93": {
          "model_module": "@jupyter-widgets/controls",
          "model_name": "HTMLModel",
          "model_module_version": "1.5.0",
          "state": {
            "_dom_classes": [],
            "_model_module": "@jupyter-widgets/controls",
            "_model_module_version": "1.5.0",
            "_model_name": "HTMLModel",
            "_view_count": null,
            "_view_module": "@jupyter-widgets/controls",
            "_view_module_version": "1.5.0",
            "_view_name": "HTMLView",
            "description": "",
            "description_tooltip": null,
            "layout": "IPY_MODEL_071ca3c2246a45aeba8f88109a6c60b7",
            "placeholder": "​",
            "style": "IPY_MODEL_745774d6503a4f07b6275e4b3540b436",
            "value": "0/1(t): 100%"
          }
        },
        "a9f73d3d581d4ecc88b18edeadf946a7": {
          "model_module": "@jupyter-widgets/controls",
          "model_name": "FloatProgressModel",
          "model_module_version": "1.5.0",
          "state": {
            "_dom_classes": [],
            "_model_module": "@jupyter-widgets/controls",
            "_model_module_version": "1.5.0",
            "_model_name": "FloatProgressModel",
            "_view_count": null,
            "_view_module": "@jupyter-widgets/controls",
            "_view_module_version": "1.5.0",
            "_view_name": "ProgressView",
            "bar_style": "success",
            "description": "",
            "description_tooltip": null,
            "layout": "IPY_MODEL_453586dcb8634f5f8f99ce94d3b519ec",
            "max": 310,
            "min": 0,
            "orientation": "horizontal",
            "style": "IPY_MODEL_4f7ee06d8b804958a9cfe7beeb5e1dfd",
            "value": 310
          }
        },
        "5de448c9c96c4a6b8ddb2fe9da5b05e6": {
          "model_module": "@jupyter-widgets/controls",
          "model_name": "HTMLModel",
          "model_module_version": "1.5.0",
          "state": {
            "_dom_classes": [],
            "_model_module": "@jupyter-widgets/controls",
            "_model_module_version": "1.5.0",
            "_model_name": "HTMLModel",
            "_view_count": null,
            "_view_module": "@jupyter-widgets/controls",
            "_view_module_version": "1.5.0",
            "_view_name": "HTMLView",
            "description": "",
            "description_tooltip": null,
            "layout": "IPY_MODEL_3147abbc64b047e7997dc19b64a4b7dd",
            "placeholder": "​",
            "style": "IPY_MODEL_5dbd2b65d12849829597d31f967e502f",
            "value": " 310/310 [11:01&lt;00:00,  1.66s/it, acc=0.7842, loss=0.6449, running_acc=0.7745, running_loss=0.6702]"
          }
        },
        "0470fb51d83644bf8530ab320bb814d9": {
          "model_module": "@jupyter-widgets/base",
          "model_name": "LayoutModel",
          "model_module_version": "1.2.0",
          "state": {
            "_model_module": "@jupyter-widgets/base",
            "_model_module_version": "1.2.0",
            "_model_name": "LayoutModel",
            "_view_count": null,
            "_view_module": "@jupyter-widgets/base",
            "_view_module_version": "1.2.0",
            "_view_name": "LayoutView",
            "align_content": null,
            "align_items": null,
            "align_self": null,
            "border": null,
            "bottom": null,
            "display": null,
            "flex": null,
            "flex_flow": null,
            "grid_area": null,
            "grid_auto_columns": null,
            "grid_auto_flow": null,
            "grid_auto_rows": null,
            "grid_column": null,
            "grid_gap": null,
            "grid_row": null,
            "grid_template_areas": null,
            "grid_template_columns": null,
            "grid_template_rows": null,
            "height": null,
            "justify_content": null,
            "justify_items": null,
            "left": null,
            "margin": null,
            "max_height": null,
            "max_width": null,
            "min_height": null,
            "min_width": null,
            "object_fit": null,
            "object_position": null,
            "order": null,
            "overflow": null,
            "overflow_x": null,
            "overflow_y": null,
            "padding": null,
            "right": null,
            "top": null,
            "visibility": null,
            "width": null
          }
        },
        "071ca3c2246a45aeba8f88109a6c60b7": {
          "model_module": "@jupyter-widgets/base",
          "model_name": "LayoutModel",
          "model_module_version": "1.2.0",
          "state": {
            "_model_module": "@jupyter-widgets/base",
            "_model_module_version": "1.2.0",
            "_model_name": "LayoutModel",
            "_view_count": null,
            "_view_module": "@jupyter-widgets/base",
            "_view_module_version": "1.2.0",
            "_view_name": "LayoutView",
            "align_content": null,
            "align_items": null,
            "align_self": null,
            "border": null,
            "bottom": null,
            "display": null,
            "flex": null,
            "flex_flow": null,
            "grid_area": null,
            "grid_auto_columns": null,
            "grid_auto_flow": null,
            "grid_auto_rows": null,
            "grid_column": null,
            "grid_gap": null,
            "grid_row": null,
            "grid_template_areas": null,
            "grid_template_columns": null,
            "grid_template_rows": null,
            "height": null,
            "justify_content": null,
            "justify_items": null,
            "left": null,
            "margin": null,
            "max_height": null,
            "max_width": null,
            "min_height": null,
            "min_width": null,
            "object_fit": null,
            "object_position": null,
            "order": null,
            "overflow": null,
            "overflow_x": null,
            "overflow_y": null,
            "padding": null,
            "right": null,
            "top": null,
            "visibility": null,
            "width": null
          }
        },
        "745774d6503a4f07b6275e4b3540b436": {
          "model_module": "@jupyter-widgets/controls",
          "model_name": "DescriptionStyleModel",
          "model_module_version": "1.5.0",
          "state": {
            "_model_module": "@jupyter-widgets/controls",
            "_model_module_version": "1.5.0",
            "_model_name": "DescriptionStyleModel",
            "_view_count": null,
            "_view_module": "@jupyter-widgets/base",
            "_view_module_version": "1.2.0",
            "_view_name": "StyleView",
            "description_width": ""
          }
        },
        "453586dcb8634f5f8f99ce94d3b519ec": {
          "model_module": "@jupyter-widgets/base",
          "model_name": "LayoutModel",
          "model_module_version": "1.2.0",
          "state": {
            "_model_module": "@jupyter-widgets/base",
            "_model_module_version": "1.2.0",
            "_model_name": "LayoutModel",
            "_view_count": null,
            "_view_module": "@jupyter-widgets/base",
            "_view_module_version": "1.2.0",
            "_view_name": "LayoutView",
            "align_content": null,
            "align_items": null,
            "align_self": null,
            "border": null,
            "bottom": null,
            "display": null,
            "flex": null,
            "flex_flow": null,
            "grid_area": null,
            "grid_auto_columns": null,
            "grid_auto_flow": null,
            "grid_auto_rows": null,
            "grid_column": null,
            "grid_gap": null,
            "grid_row": null,
            "grid_template_areas": null,
            "grid_template_columns": null,
            "grid_template_rows": null,
            "height": null,
            "justify_content": null,
            "justify_items": null,
            "left": null,
            "margin": null,
            "max_height": null,
            "max_width": null,
            "min_height": null,
            "min_width": null,
            "object_fit": null,
            "object_position": null,
            "order": null,
            "overflow": null,
            "overflow_x": null,
            "overflow_y": null,
            "padding": null,
            "right": null,
            "top": null,
            "visibility": null,
            "width": null
          }
        },
        "4f7ee06d8b804958a9cfe7beeb5e1dfd": {
          "model_module": "@jupyter-widgets/controls",
          "model_name": "ProgressStyleModel",
          "model_module_version": "1.5.0",
          "state": {
            "_model_module": "@jupyter-widgets/controls",
            "_model_module_version": "1.5.0",
            "_model_name": "ProgressStyleModel",
            "_view_count": null,
            "_view_module": "@jupyter-widgets/base",
            "_view_module_version": "1.2.0",
            "_view_name": "StyleView",
            "bar_color": null,
            "description_width": ""
          }
        },
        "3147abbc64b047e7997dc19b64a4b7dd": {
          "model_module": "@jupyter-widgets/base",
          "model_name": "LayoutModel",
          "model_module_version": "1.2.0",
          "state": {
            "_model_module": "@jupyter-widgets/base",
            "_model_module_version": "1.2.0",
            "_model_name": "LayoutModel",
            "_view_count": null,
            "_view_module": "@jupyter-widgets/base",
            "_view_module_version": "1.2.0",
            "_view_name": "LayoutView",
            "align_content": null,
            "align_items": null,
            "align_self": null,
            "border": null,
            "bottom": null,
            "display": null,
            "flex": null,
            "flex_flow": null,
            "grid_area": null,
            "grid_auto_columns": null,
            "grid_auto_flow": null,
            "grid_auto_rows": null,
            "grid_column": null,
            "grid_gap": null,
            "grid_row": null,
            "grid_template_areas": null,
            "grid_template_columns": null,
            "grid_template_rows": null,
            "height": null,
            "justify_content": null,
            "justify_items": null,
            "left": null,
            "margin": null,
            "max_height": null,
            "max_width": null,
            "min_height": null,
            "min_width": null,
            "object_fit": null,
            "object_position": null,
            "order": null,
            "overflow": null,
            "overflow_x": null,
            "overflow_y": null,
            "padding": null,
            "right": null,
            "top": null,
            "visibility": null,
            "width": null
          }
        },
        "5dbd2b65d12849829597d31f967e502f": {
          "model_module": "@jupyter-widgets/controls",
          "model_name": "DescriptionStyleModel",
          "model_module_version": "1.5.0",
          "state": {
            "_model_module": "@jupyter-widgets/controls",
            "_model_module_version": "1.5.0",
            "_model_name": "DescriptionStyleModel",
            "_view_count": null,
            "_view_module": "@jupyter-widgets/base",
            "_view_module_version": "1.2.0",
            "_view_name": "StyleView",
            "description_width": ""
          }
        },
        "8c8bf83cc44c46a2a94adadefff8fd76": {
          "model_module": "@jupyter-widgets/controls",
          "model_name": "HBoxModel",
          "model_module_version": "1.5.0",
          "state": {
            "_dom_classes": [],
            "_model_module": "@jupyter-widgets/controls",
            "_model_module_version": "1.5.0",
            "_model_name": "HBoxModel",
            "_view_count": null,
            "_view_module": "@jupyter-widgets/controls",
            "_view_module_version": "1.5.0",
            "_view_name": "HBoxView",
            "box_style": "",
            "children": [
              "IPY_MODEL_1fc9e209ae6744938614c94bcade65bd",
              "IPY_MODEL_6cbe4bf3d1ea4d60806779b1b2ae15f3",
              "IPY_MODEL_af0ad75680144881abdf445f0636e955"
            ],
            "layout": "IPY_MODEL_a2a13c0431154b1fb8ea73ea336427ad"
          }
        },
        "1fc9e209ae6744938614c94bcade65bd": {
          "model_module": "@jupyter-widgets/controls",
          "model_name": "HTMLModel",
          "model_module_version": "1.5.0",
          "state": {
            "_dom_classes": [],
            "_model_module": "@jupyter-widgets/controls",
            "_model_module_version": "1.5.0",
            "_model_name": "HTMLModel",
            "_view_count": null,
            "_view_module": "@jupyter-widgets/controls",
            "_view_module_version": "1.5.0",
            "_view_name": "HTMLView",
            "description": "",
            "description_tooltip": null,
            "layout": "IPY_MODEL_474317cf26a8465eac6f804e9fcae826",
            "placeholder": "​",
            "style": "IPY_MODEL_0db3624df6244a62babe2b3ff44b9a4b",
            "value": "0/1(v): 100%"
          }
        },
        "6cbe4bf3d1ea4d60806779b1b2ae15f3": {
          "model_module": "@jupyter-widgets/controls",
          "model_name": "FloatProgressModel",
          "model_module_version": "1.5.0",
          "state": {
            "_dom_classes": [],
            "_model_module": "@jupyter-widgets/controls",
            "_model_module_version": "1.5.0",
            "_model_name": "FloatProgressModel",
            "_view_count": null,
            "_view_module": "@jupyter-widgets/controls",
            "_view_module_version": "1.5.0",
            "_view_name": "ProgressView",
            "bar_style": "success",
            "description": "",
            "description_tooltip": null,
            "layout": "IPY_MODEL_24007e2df3de4d0d9e10cd360769e677",
            "max": 17,
            "min": 0,
            "orientation": "horizontal",
            "style": "IPY_MODEL_c1482dd99f6644f68bd44bfac22a1e3a",
            "value": 17
          }
        },
        "af0ad75680144881abdf445f0636e955": {
          "model_module": "@jupyter-widgets/controls",
          "model_name": "HTMLModel",
          "model_module_version": "1.5.0",
          "state": {
            "_dom_classes": [],
            "_model_module": "@jupyter-widgets/controls",
            "_model_module_version": "1.5.0",
            "_model_name": "HTMLModel",
            "_view_count": null,
            "_view_module": "@jupyter-widgets/controls",
            "_view_module_version": "1.5.0",
            "_view_name": "HTMLView",
            "description": "",
            "description_tooltip": null,
            "layout": "IPY_MODEL_8574f60b942643689d06f14bd9f9284f",
            "placeholder": "​",
            "style": "IPY_MODEL_18055a8b46a747e3afdb26e095b6c00f",
            "value": " 17/17 [00:15&lt;00:00,  1.32it/s, val_acc=0.8406, val_loss=0.4864]"
          }
        },
        "a2a13c0431154b1fb8ea73ea336427ad": {
          "model_module": "@jupyter-widgets/base",
          "model_name": "LayoutModel",
          "model_module_version": "1.2.0",
          "state": {
            "_model_module": "@jupyter-widgets/base",
            "_model_module_version": "1.2.0",
            "_model_name": "LayoutModel",
            "_view_count": null,
            "_view_module": "@jupyter-widgets/base",
            "_view_module_version": "1.2.0",
            "_view_name": "LayoutView",
            "align_content": null,
            "align_items": null,
            "align_self": null,
            "border": null,
            "bottom": null,
            "display": null,
            "flex": null,
            "flex_flow": null,
            "grid_area": null,
            "grid_auto_columns": null,
            "grid_auto_flow": null,
            "grid_auto_rows": null,
            "grid_column": null,
            "grid_gap": null,
            "grid_row": null,
            "grid_template_areas": null,
            "grid_template_columns": null,
            "grid_template_rows": null,
            "height": null,
            "justify_content": null,
            "justify_items": null,
            "left": null,
            "margin": null,
            "max_height": null,
            "max_width": null,
            "min_height": null,
            "min_width": null,
            "object_fit": null,
            "object_position": null,
            "order": null,
            "overflow": null,
            "overflow_x": null,
            "overflow_y": null,
            "padding": null,
            "right": null,
            "top": null,
            "visibility": null,
            "width": null
          }
        },
        "474317cf26a8465eac6f804e9fcae826": {
          "model_module": "@jupyter-widgets/base",
          "model_name": "LayoutModel",
          "model_module_version": "1.2.0",
          "state": {
            "_model_module": "@jupyter-widgets/base",
            "_model_module_version": "1.2.0",
            "_model_name": "LayoutModel",
            "_view_count": null,
            "_view_module": "@jupyter-widgets/base",
            "_view_module_version": "1.2.0",
            "_view_name": "LayoutView",
            "align_content": null,
            "align_items": null,
            "align_self": null,
            "border": null,
            "bottom": null,
            "display": null,
            "flex": null,
            "flex_flow": null,
            "grid_area": null,
            "grid_auto_columns": null,
            "grid_auto_flow": null,
            "grid_auto_rows": null,
            "grid_column": null,
            "grid_gap": null,
            "grid_row": null,
            "grid_template_areas": null,
            "grid_template_columns": null,
            "grid_template_rows": null,
            "height": null,
            "justify_content": null,
            "justify_items": null,
            "left": null,
            "margin": null,
            "max_height": null,
            "max_width": null,
            "min_height": null,
            "min_width": null,
            "object_fit": null,
            "object_position": null,
            "order": null,
            "overflow": null,
            "overflow_x": null,
            "overflow_y": null,
            "padding": null,
            "right": null,
            "top": null,
            "visibility": null,
            "width": null
          }
        },
        "0db3624df6244a62babe2b3ff44b9a4b": {
          "model_module": "@jupyter-widgets/controls",
          "model_name": "DescriptionStyleModel",
          "model_module_version": "1.5.0",
          "state": {
            "_model_module": "@jupyter-widgets/controls",
            "_model_module_version": "1.5.0",
            "_model_name": "DescriptionStyleModel",
            "_view_count": null,
            "_view_module": "@jupyter-widgets/base",
            "_view_module_version": "1.2.0",
            "_view_name": "StyleView",
            "description_width": ""
          }
        },
        "24007e2df3de4d0d9e10cd360769e677": {
          "model_module": "@jupyter-widgets/base",
          "model_name": "LayoutModel",
          "model_module_version": "1.2.0",
          "state": {
            "_model_module": "@jupyter-widgets/base",
            "_model_module_version": "1.2.0",
            "_model_name": "LayoutModel",
            "_view_count": null,
            "_view_module": "@jupyter-widgets/base",
            "_view_module_version": "1.2.0",
            "_view_name": "LayoutView",
            "align_content": null,
            "align_items": null,
            "align_self": null,
            "border": null,
            "bottom": null,
            "display": null,
            "flex": null,
            "flex_flow": null,
            "grid_area": null,
            "grid_auto_columns": null,
            "grid_auto_flow": null,
            "grid_auto_rows": null,
            "grid_column": null,
            "grid_gap": null,
            "grid_row": null,
            "grid_template_areas": null,
            "grid_template_columns": null,
            "grid_template_rows": null,
            "height": null,
            "justify_content": null,
            "justify_items": null,
            "left": null,
            "margin": null,
            "max_height": null,
            "max_width": null,
            "min_height": null,
            "min_width": null,
            "object_fit": null,
            "object_position": null,
            "order": null,
            "overflow": null,
            "overflow_x": null,
            "overflow_y": null,
            "padding": null,
            "right": null,
            "top": null,
            "visibility": null,
            "width": null
          }
        },
        "c1482dd99f6644f68bd44bfac22a1e3a": {
          "model_module": "@jupyter-widgets/controls",
          "model_name": "ProgressStyleModel",
          "model_module_version": "1.5.0",
          "state": {
            "_model_module": "@jupyter-widgets/controls",
            "_model_module_version": "1.5.0",
            "_model_name": "ProgressStyleModel",
            "_view_count": null,
            "_view_module": "@jupyter-widgets/base",
            "_view_module_version": "1.2.0",
            "_view_name": "StyleView",
            "bar_color": null,
            "description_width": ""
          }
        },
        "8574f60b942643689d06f14bd9f9284f": {
          "model_module": "@jupyter-widgets/base",
          "model_name": "LayoutModel",
          "model_module_version": "1.2.0",
          "state": {
            "_model_module": "@jupyter-widgets/base",
            "_model_module_version": "1.2.0",
            "_model_name": "LayoutModel",
            "_view_count": null,
            "_view_module": "@jupyter-widgets/base",
            "_view_module_version": "1.2.0",
            "_view_name": "LayoutView",
            "align_content": null,
            "align_items": null,
            "align_self": null,
            "border": null,
            "bottom": null,
            "display": null,
            "flex": null,
            "flex_flow": null,
            "grid_area": null,
            "grid_auto_columns": null,
            "grid_auto_flow": null,
            "grid_auto_rows": null,
            "grid_column": null,
            "grid_gap": null,
            "grid_row": null,
            "grid_template_areas": null,
            "grid_template_columns": null,
            "grid_template_rows": null,
            "height": null,
            "justify_content": null,
            "justify_items": null,
            "left": null,
            "margin": null,
            "max_height": null,
            "max_width": null,
            "min_height": null,
            "min_width": null,
            "object_fit": null,
            "object_position": null,
            "order": null,
            "overflow": null,
            "overflow_x": null,
            "overflow_y": null,
            "padding": null,
            "right": null,
            "top": null,
            "visibility": null,
            "width": null
          }
        },
        "18055a8b46a747e3afdb26e095b6c00f": {
          "model_module": "@jupyter-widgets/controls",
          "model_name": "DescriptionStyleModel",
          "model_module_version": "1.5.0",
          "state": {
            "_model_module": "@jupyter-widgets/controls",
            "_model_module_version": "1.5.0",
            "_model_name": "DescriptionStyleModel",
            "_view_count": null,
            "_view_module": "@jupyter-widgets/base",
            "_view_module_version": "1.2.0",
            "_view_name": "StyleView",
            "description_width": ""
          }
        }
      }
    }
  },
  "nbformat": 4,
  "nbformat_minor": 0
}