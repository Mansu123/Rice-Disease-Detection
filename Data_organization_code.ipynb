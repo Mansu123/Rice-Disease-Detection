{
  "nbformat": 4,
  "nbformat_minor": 0,
  "metadata": {
    "colab": {
      "provenance": []
    },
    "kernelspec": {
      "name": "python3",
      "display_name": "Python 3"
    },
    "language_info": {
      "name": "python"
    }
  },
  "cells": [
    {
      "cell_type": "code",
      "source": [
        "import os\n",
        "import glob\n",
        "import csv"
      ],
      "metadata": {
        "id": "B0Dx3tZaTf44"
      },
      "execution_count": null,
      "outputs": []
    },
    {
      "cell_type": "code",
      "execution_count": null,
      "metadata": {
        "colab": {
          "base_uri": "https://localhost:8080/"
        },
        "id": "lCXBubrITPie",
        "outputId": "033cf73a-27fc-4801-de6a-ee390ef355b1"
      },
      "outputs": [
        {
          "output_type": "stream",
          "name": "stdout",
          "text": [
            "Mounted at /content/drive\n"
          ]
        }
      ],
      "source": [
        "from google.colab import drive\n",
        "\n",
        "drive.mount('/content/drive', force_remount=True)\n",
        "\n"
      ]
    },
    {
      "cell_type": "code",
      "source": [
        "dataset_path = '/content/gdrive/MyDrive/Paddy big dataset/train_images'"
      ],
      "metadata": {
        "id": "IfKyecJxRQb7"
      },
      "execution_count": null,
      "outputs": []
    },
    {
      "cell_type": "code",
      "source": [
        "directory_list=os.listdir(dataset_path)"
      ],
      "metadata": {
        "id": "m2pTBBRv1Ysf"
      },
      "execution_count": null,
      "outputs": []
    },
    {
      "cell_type": "code",
      "source": [
        "print(directory_list)"
      ],
      "metadata": {
        "colab": {
          "base_uri": "https://localhost:8080/"
        },
        "id": "DqeYN4_R1ejY",
        "outputId": "fe921255-a269-409c-d3d3-b9cad41e9c38"
      },
      "execution_count": null,
      "outputs": [
        {
          "output_type": "stream",
          "name": "stdout",
          "text": [
            "['dead_heart', 'downy_mildew', 'normal', 'bacterial_leaf_streak', 'blast', 'hispa', 'brown_spot', 'bacterial_panicle_blight', 'bacterial_leaf_blight', 'tungro']\n"
          ]
        }
      ]
    },
    {
      "cell_type": "code",
      "source": [
        "#Disease_list=['Leaf burn','Hispa','Healthy','Blast','Brown spot']"
      ],
      "metadata": {
        "id": "1DA1MQyw1w6R"
      },
      "execution_count": null,
      "outputs": []
    },
    {
      "cell_type": "code",
      "source": [
        "filename='/content/gdrive/MyDrive/CSV file of rice disease/Ricedisease.csv'\n",
        "with open(filename, 'w') as csvfile:\n",
        "  writer = csv.writer(csvfile)\n",
        "  writer.writerows([['Image Location','Category No','Category']])\n",
        "  for x,directory in enumerate(directory_list):\n",
        "    for filename in glob.glob(os.path.join(dataset_path,directory,\"*.jpg\")):\n",
        "      writer.writerows([[filename,str(x),directory]])\n",
        "\n",
        "\n"
      ],
      "metadata": {
        "id": "f2Zq4ld8Te4m"
      },
      "execution_count": null,
      "outputs": []
    },
    {
      "cell_type": "code",
      "source": [
        "import pandas as pd\n",
        "df = pd.read_csv('/content/drive/MyDrive/CSV file of rice disease/Ricedisease.csv')\n",
        "ds = df.sample(frac=1)\n",
        "ds.to_csv('/content/drive/MyDrive/CSV file of rice disease/Ricedisease_shuffled2.csv')\n"
      ],
      "metadata": {
        "id": "AIkf0fzI2aaX"
      },
      "execution_count": null,
      "outputs": []
    },
    {
      "cell_type": "code",
      "source": [],
      "metadata": {
        "id": "wRGmVkLqTFc3"
      },
      "execution_count": null,
      "outputs": []
    }
  ]
}